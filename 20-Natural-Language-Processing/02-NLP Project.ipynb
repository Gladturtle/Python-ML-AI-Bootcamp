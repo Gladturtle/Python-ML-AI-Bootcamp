{
 "cells": [
  {
   "cell_type": "markdown",
   "metadata": {},
   "source": [
    "___\n",
    "\n",
    "<a href='http://www.pieriandata.com'> <img src='../Pierian_Data_Logo.png' /></a>\n",
    "___"
   ]
  },
  {
   "cell_type": "markdown",
   "metadata": {},
   "source": [
    "# Natural Language Processing Project\n",
    "\n",
    "Welcome to the NLP Project for this section of the course. In this NLP project you will be attempting to classify Yelp Reviews into 1 star or 5 star categories based off the text content in the reviews. This will be a simpler procedure than the lecture, since we will utilize the pipeline methods for more complex tasks.\n",
    "\n",
    "We will use the [Yelp Review Data Set from Kaggle](https://www.kaggle.com/c/yelp-recsys-2013).\n",
    "\n",
    "Each observation in this dataset is a review of a particular business by a particular user.\n",
    "\n",
    "The \"stars\" column is the number of stars (1 through 5) assigned by the reviewer to the business. (Higher stars is better.) In other words, it is the rating of the business by the person who wrote the review.\n",
    "\n",
    "The \"cool\" column is the number of \"cool\" votes this review received from other Yelp users. \n",
    "\n",
    "All reviews start with 0 \"cool\" votes, and there is no limit to how many \"cool\" votes a review can receive. In other words, it is a rating of the review itself, not a rating of the business.\n",
    "\n",
    "The \"useful\" and \"funny\" columns are similar to the \"cool\" column.\n",
    "\n",
    "Let's get started! Just follow the directions below!"
   ]
  },
  {
   "cell_type": "markdown",
   "metadata": {},
   "source": [
    "## Imports\n",
    " **Import the usual suspects. :) **"
   ]
  },
  {
   "cell_type": "code",
<<<<<<< Updated upstream
   "execution_count": 149,
=======
   "execution_count": 220,
>>>>>>> Stashed changes
   "metadata": {
    "collapsed": true
   },
   "outputs": [],
   "source": [
    "import pandas as pd\n",
    "import numpy as np\n",
    "import matplotlib.pyplot as plt\n",
    "import seaborn as sns\n",
    "%matplotlib inline\n",
    "import nltk \n"
   ]
  },
  {
   "cell_type": "markdown",
   "metadata": {},
   "source": [
    "## The Data\n",
    "\n",
    "**Read the yelp.csv file and set it as a dataframe called yelp.**"
   ]
  },
  {
   "cell_type": "code",
<<<<<<< Updated upstream
   "execution_count": 150,
=======
   "execution_count": 221,
>>>>>>> Stashed changes
   "metadata": {
    "collapsed": true
   },
   "outputs": [],
   "source": [
    "df = pd.read_csv('yelp.csv')"
   ]
  },
  {
   "cell_type": "markdown",
   "metadata": {},
   "source": [
    "** Check the head, info , and describe methods on yelp.**"
   ]
  },
  {
   "cell_type": "code",
<<<<<<< Updated upstream
   "execution_count": 151,
=======
   "execution_count": 222,
>>>>>>> Stashed changes
   "metadata": {
    "collapsed": false
   },
   "outputs": [
    {
     "data": {
      "text/html": [
       "<div>\n",
       "<style scoped>\n",
       "    .dataframe tbody tr th:only-of-type {\n",
       "        vertical-align: middle;\n",
       "    }\n",
       "\n",
       "    .dataframe tbody tr th {\n",
       "        vertical-align: top;\n",
       "    }\n",
       "\n",
       "    .dataframe thead th {\n",
       "        text-align: right;\n",
       "    }\n",
       "</style>\n",
       "<table border=\"1\" class=\"dataframe\">\n",
       "  <thead>\n",
       "    <tr style=\"text-align: right;\">\n",
       "      <th></th>\n",
       "      <th>business_id</th>\n",
       "      <th>date</th>\n",
       "      <th>review_id</th>\n",
       "      <th>stars</th>\n",
       "      <th>text</th>\n",
       "      <th>type</th>\n",
       "      <th>user_id</th>\n",
       "      <th>cool</th>\n",
       "      <th>useful</th>\n",
       "      <th>funny</th>\n",
       "    </tr>\n",
       "  </thead>\n",
       "  <tbody>\n",
       "    <tr>\n",
       "      <th>0</th>\n",
       "      <td>9yKzy9PApeiPPOUJEtnvkg</td>\n",
       "      <td>2011-01-26</td>\n",
       "      <td>fWKvX83p0-ka4JS3dc6E5A</td>\n",
       "      <td>5</td>\n",
       "      <td>My wife took me here on my birthday for breakf...</td>\n",
       "      <td>review</td>\n",
       "      <td>rLtl8ZkDX5vH5nAx9C3q5Q</td>\n",
       "      <td>2</td>\n",
       "      <td>5</td>\n",
       "      <td>0</td>\n",
       "    </tr>\n",
       "    <tr>\n",
       "      <th>1</th>\n",
       "      <td>ZRJwVLyzEJq1VAihDhYiow</td>\n",
       "      <td>2011-07-27</td>\n",
       "      <td>IjZ33sJrzXqU-0X6U8NwyA</td>\n",
       "      <td>5</td>\n",
       "      <td>I have no idea why some people give bad review...</td>\n",
       "      <td>review</td>\n",
       "      <td>0a2KyEL0d3Yb1V6aivbIuQ</td>\n",
       "      <td>0</td>\n",
       "      <td>0</td>\n",
       "      <td>0</td>\n",
       "    </tr>\n",
       "    <tr>\n",
       "      <th>2</th>\n",
       "      <td>6oRAC4uyJCsJl1X0WZpVSA</td>\n",
       "      <td>2012-06-14</td>\n",
       "      <td>IESLBzqUCLdSzSqm0eCSxQ</td>\n",
       "      <td>4</td>\n",
       "      <td>love the gyro plate. Rice is so good and I als...</td>\n",
       "      <td>review</td>\n",
       "      <td>0hT2KtfLiobPvh6cDC8JQg</td>\n",
       "      <td>0</td>\n",
       "      <td>1</td>\n",
       "      <td>0</td>\n",
       "    </tr>\n",
       "    <tr>\n",
       "      <th>3</th>\n",
       "      <td>_1QQZuf4zZOyFCvXc0o6Vg</td>\n",
       "      <td>2010-05-27</td>\n",
       "      <td>G-WvGaISbqqaMHlNnByodA</td>\n",
       "      <td>5</td>\n",
       "      <td>Rosie, Dakota, and I LOVE Chaparral Dog Park!!...</td>\n",
       "      <td>review</td>\n",
       "      <td>uZetl9T0NcROGOyFfughhg</td>\n",
       "      <td>1</td>\n",
       "      <td>2</td>\n",
       "      <td>0</td>\n",
       "    </tr>\n",
       "    <tr>\n",
       "      <th>4</th>\n",
       "      <td>6ozycU1RpktNG2-1BroVtw</td>\n",
       "      <td>2012-01-05</td>\n",
       "      <td>1uJFq2r5QfJG_6ExMRCaGw</td>\n",
       "      <td>5</td>\n",
       "      <td>General Manager Scott Petello is a good egg!!!...</td>\n",
       "      <td>review</td>\n",
       "      <td>vYmM4KTsC8ZfQBg-j5MWkw</td>\n",
       "      <td>0</td>\n",
       "      <td>0</td>\n",
       "      <td>0</td>\n",
       "    </tr>\n",
       "  </tbody>\n",
       "</table>\n",
       "</div>"
      ],
      "text/plain": [
       "              business_id        date               review_id  stars  \\\n",
       "0  9yKzy9PApeiPPOUJEtnvkg  2011-01-26  fWKvX83p0-ka4JS3dc6E5A      5   \n",
       "1  ZRJwVLyzEJq1VAihDhYiow  2011-07-27  IjZ33sJrzXqU-0X6U8NwyA      5   \n",
       "2  6oRAC4uyJCsJl1X0WZpVSA  2012-06-14  IESLBzqUCLdSzSqm0eCSxQ      4   \n",
       "3  _1QQZuf4zZOyFCvXc0o6Vg  2010-05-27  G-WvGaISbqqaMHlNnByodA      5   \n",
       "4  6ozycU1RpktNG2-1BroVtw  2012-01-05  1uJFq2r5QfJG_6ExMRCaGw      5   \n",
       "\n",
       "                                                text    type  \\\n",
       "0  My wife took me here on my birthday for breakf...  review   \n",
       "1  I have no idea why some people give bad review...  review   \n",
       "2  love the gyro plate. Rice is so good and I als...  review   \n",
       "3  Rosie, Dakota, and I LOVE Chaparral Dog Park!!...  review   \n",
       "4  General Manager Scott Petello is a good egg!!!...  review   \n",
       "\n",
       "                  user_id  cool  useful  funny  \n",
       "0  rLtl8ZkDX5vH5nAx9C3q5Q     2       5      0  \n",
       "1  0a2KyEL0d3Yb1V6aivbIuQ     0       0      0  \n",
       "2  0hT2KtfLiobPvh6cDC8JQg     0       1      0  \n",
       "3  uZetl9T0NcROGOyFfughhg     1       2      0  \n",
       "4  vYmM4KTsC8ZfQBg-j5MWkw     0       0      0  "
      ]
     },
<<<<<<< Updated upstream
     "execution_count": 151,
=======
     "execution_count": 222,
>>>>>>> Stashed changes
     "metadata": {},
     "output_type": "execute_result"
    }
   ],
   "source": [
    "df.head()"
   ]
  },
  {
   "cell_type": "code",
<<<<<<< Updated upstream
   "execution_count": 152,
=======
   "execution_count": 223,
>>>>>>> Stashed changes
   "metadata": {
    "collapsed": false
   },
   "outputs": [
    {
     "name": "stdout",
     "output_type": "stream",
     "text": [
      "<class 'pandas.core.frame.DataFrame'>\n",
      "RangeIndex: 10000 entries, 0 to 9999\n",
      "Data columns (total 10 columns):\n",
      " #   Column       Non-Null Count  Dtype \n",
      "---  ------       --------------  ----- \n",
      " 0   business_id  10000 non-null  object\n",
      " 1   date         10000 non-null  object\n",
      " 2   review_id    10000 non-null  object\n",
      " 3   stars        10000 non-null  int64 \n",
      " 4   text         10000 non-null  object\n",
      " 5   type         10000 non-null  object\n",
      " 6   user_id      10000 non-null  object\n",
      " 7   cool         10000 non-null  int64 \n",
      " 8   useful       10000 non-null  int64 \n",
      " 9   funny        10000 non-null  int64 \n",
      "dtypes: int64(4), object(6)\n",
      "memory usage: 781.4+ KB\n"
     ]
    }
   ],
   "source": [
    "df.info()"
   ]
  },
  {
   "cell_type": "code",
<<<<<<< Updated upstream
   "execution_count": 153,
=======
   "execution_count": 224,
>>>>>>> Stashed changes
   "metadata": {
    "collapsed": false
   },
   "outputs": [
    {
     "data": {
      "text/html": [
       "<div>\n",
       "<style scoped>\n",
       "    .dataframe tbody tr th:only-of-type {\n",
       "        vertical-align: middle;\n",
       "    }\n",
       "\n",
       "    .dataframe tbody tr th {\n",
       "        vertical-align: top;\n",
       "    }\n",
       "\n",
       "    .dataframe thead th {\n",
       "        text-align: right;\n",
       "    }\n",
       "</style>\n",
       "<table border=\"1\" class=\"dataframe\">\n",
       "  <thead>\n",
       "    <tr style=\"text-align: right;\">\n",
       "      <th></th>\n",
       "      <th>stars</th>\n",
       "      <th>cool</th>\n",
       "      <th>useful</th>\n",
       "      <th>funny</th>\n",
       "    </tr>\n",
       "  </thead>\n",
       "  <tbody>\n",
       "    <tr>\n",
       "      <th>count</th>\n",
       "      <td>10000.000000</td>\n",
       "      <td>10000.000000</td>\n",
       "      <td>10000.000000</td>\n",
       "      <td>10000.000000</td>\n",
       "    </tr>\n",
       "    <tr>\n",
       "      <th>mean</th>\n",
       "      <td>3.777500</td>\n",
       "      <td>0.876800</td>\n",
       "      <td>1.409300</td>\n",
       "      <td>0.701300</td>\n",
       "    </tr>\n",
       "    <tr>\n",
       "      <th>std</th>\n",
       "      <td>1.214636</td>\n",
       "      <td>2.067861</td>\n",
       "      <td>2.336647</td>\n",
       "      <td>1.907942</td>\n",
       "    </tr>\n",
       "    <tr>\n",
       "      <th>min</th>\n",
       "      <td>1.000000</td>\n",
       "      <td>0.000000</td>\n",
       "      <td>0.000000</td>\n",
       "      <td>0.000000</td>\n",
       "    </tr>\n",
       "    <tr>\n",
       "      <th>25%</th>\n",
       "      <td>3.000000</td>\n",
       "      <td>0.000000</td>\n",
       "      <td>0.000000</td>\n",
       "      <td>0.000000</td>\n",
       "    </tr>\n",
       "    <tr>\n",
       "      <th>50%</th>\n",
       "      <td>4.000000</td>\n",
       "      <td>0.000000</td>\n",
       "      <td>1.000000</td>\n",
       "      <td>0.000000</td>\n",
       "    </tr>\n",
       "    <tr>\n",
       "      <th>75%</th>\n",
       "      <td>5.000000</td>\n",
       "      <td>1.000000</td>\n",
       "      <td>2.000000</td>\n",
       "      <td>1.000000</td>\n",
       "    </tr>\n",
       "    <tr>\n",
       "      <th>max</th>\n",
       "      <td>5.000000</td>\n",
       "      <td>77.000000</td>\n",
       "      <td>76.000000</td>\n",
       "      <td>57.000000</td>\n",
       "    </tr>\n",
       "  </tbody>\n",
       "</table>\n",
       "</div>"
      ],
      "text/plain": [
       "              stars          cool        useful         funny\n",
       "count  10000.000000  10000.000000  10000.000000  10000.000000\n",
       "mean       3.777500      0.876800      1.409300      0.701300\n",
       "std        1.214636      2.067861      2.336647      1.907942\n",
       "min        1.000000      0.000000      0.000000      0.000000\n",
       "25%        3.000000      0.000000      0.000000      0.000000\n",
       "50%        4.000000      0.000000      1.000000      0.000000\n",
       "75%        5.000000      1.000000      2.000000      1.000000\n",
       "max        5.000000     77.000000     76.000000     57.000000"
      ]
     },
<<<<<<< Updated upstream
     "execution_count": 153,
=======
     "execution_count": 224,
>>>>>>> Stashed changes
     "metadata": {},
     "output_type": "execute_result"
    }
   ],
   "source": [
    "df.describe()\n"
   ]
  },
  {
   "cell_type": "markdown",
   "metadata": {},
   "source": [
    "**Create a new column called \"text length\" which is the number of words in the text column.**"
   ]
  },
  {
   "cell_type": "code",
<<<<<<< Updated upstream
   "execution_count": 154,
=======
   "execution_count": 225,
>>>>>>> Stashed changes
   "metadata": {
    "collapsed": true
   },
   "outputs": [
    {
     "data": {
      "text/html": [
       "<div>\n",
       "<style scoped>\n",
       "    .dataframe tbody tr th:only-of-type {\n",
       "        vertical-align: middle;\n",
       "    }\n",
       "\n",
       "    .dataframe tbody tr th {\n",
       "        vertical-align: top;\n",
       "    }\n",
       "\n",
       "    .dataframe thead th {\n",
       "        text-align: right;\n",
       "    }\n",
       "</style>\n",
       "<table border=\"1\" class=\"dataframe\">\n",
       "  <thead>\n",
       "    <tr style=\"text-align: right;\">\n",
       "      <th></th>\n",
       "      <th>business_id</th>\n",
       "      <th>date</th>\n",
       "      <th>review_id</th>\n",
       "      <th>stars</th>\n",
       "      <th>text</th>\n",
       "      <th>type</th>\n",
       "      <th>user_id</th>\n",
       "      <th>cool</th>\n",
       "      <th>useful</th>\n",
       "      <th>funny</th>\n",
       "      <th>text_length</th>\n",
       "    </tr>\n",
       "  </thead>\n",
       "  <tbody>\n",
       "    <tr>\n",
       "      <th>0</th>\n",
       "      <td>9yKzy9PApeiPPOUJEtnvkg</td>\n",
       "      <td>2011-01-26</td>\n",
       "      <td>fWKvX83p0-ka4JS3dc6E5A</td>\n",
       "      <td>5</td>\n",
       "      <td>My wife took me here on my birthday for breakf...</td>\n",
       "      <td>review</td>\n",
       "      <td>rLtl8ZkDX5vH5nAx9C3q5Q</td>\n",
       "      <td>2</td>\n",
       "      <td>5</td>\n",
       "      <td>0</td>\n",
       "      <td>889</td>\n",
       "    </tr>\n",
       "    <tr>\n",
       "      <th>1</th>\n",
       "      <td>ZRJwVLyzEJq1VAihDhYiow</td>\n",
       "      <td>2011-07-27</td>\n",
       "      <td>IjZ33sJrzXqU-0X6U8NwyA</td>\n",
       "      <td>5</td>\n",
       "      <td>I have no idea why some people give bad review...</td>\n",
       "      <td>review</td>\n",
       "      <td>0a2KyEL0d3Yb1V6aivbIuQ</td>\n",
       "      <td>0</td>\n",
       "      <td>0</td>\n",
       "      <td>0</td>\n",
       "      <td>1345</td>\n",
       "    </tr>\n",
       "    <tr>\n",
       "      <th>2</th>\n",
       "      <td>6oRAC4uyJCsJl1X0WZpVSA</td>\n",
       "      <td>2012-06-14</td>\n",
       "      <td>IESLBzqUCLdSzSqm0eCSxQ</td>\n",
       "      <td>4</td>\n",
       "      <td>love the gyro plate. Rice is so good and I als...</td>\n",
       "      <td>review</td>\n",
       "      <td>0hT2KtfLiobPvh6cDC8JQg</td>\n",
       "      <td>0</td>\n",
       "      <td>1</td>\n",
       "      <td>0</td>\n",
       "      <td>76</td>\n",
       "    </tr>\n",
       "    <tr>\n",
       "      <th>3</th>\n",
       "      <td>_1QQZuf4zZOyFCvXc0o6Vg</td>\n",
       "      <td>2010-05-27</td>\n",
       "      <td>G-WvGaISbqqaMHlNnByodA</td>\n",
       "      <td>5</td>\n",
       "      <td>Rosie, Dakota, and I LOVE Chaparral Dog Park!!...</td>\n",
       "      <td>review</td>\n",
       "      <td>uZetl9T0NcROGOyFfughhg</td>\n",
       "      <td>1</td>\n",
       "      <td>2</td>\n",
       "      <td>0</td>\n",
       "      <td>419</td>\n",
       "    </tr>\n",
       "    <tr>\n",
       "      <th>4</th>\n",
       "      <td>6ozycU1RpktNG2-1BroVtw</td>\n",
       "      <td>2012-01-05</td>\n",
       "      <td>1uJFq2r5QfJG_6ExMRCaGw</td>\n",
       "      <td>5</td>\n",
       "      <td>General Manager Scott Petello is a good egg!!!...</td>\n",
       "      <td>review</td>\n",
       "      <td>vYmM4KTsC8ZfQBg-j5MWkw</td>\n",
       "      <td>0</td>\n",
       "      <td>0</td>\n",
       "      <td>0</td>\n",
       "      <td>469</td>\n",
       "    </tr>\n",
       "    <tr>\n",
       "      <th>...</th>\n",
       "      <td>...</td>\n",
       "      <td>...</td>\n",
       "      <td>...</td>\n",
       "      <td>...</td>\n",
       "      <td>...</td>\n",
       "      <td>...</td>\n",
       "      <td>...</td>\n",
       "      <td>...</td>\n",
       "      <td>...</td>\n",
       "      <td>...</td>\n",
       "      <td>...</td>\n",
       "    </tr>\n",
       "    <tr>\n",
       "      <th>9995</th>\n",
       "      <td>VY_tvNUCCXGXQeSvJl757Q</td>\n",
       "      <td>2012-07-28</td>\n",
       "      <td>Ubyfp2RSDYW0g7Mbr8N3iA</td>\n",
       "      <td>3</td>\n",
       "      <td>First visit...Had lunch here today - used my G...</td>\n",
       "      <td>review</td>\n",
       "      <td>_eqQoPtQ3e3UxLE4faT6ow</td>\n",
       "      <td>1</td>\n",
       "      <td>2</td>\n",
       "      <td>0</td>\n",
       "      <td>668</td>\n",
       "    </tr>\n",
       "    <tr>\n",
       "      <th>9996</th>\n",
       "      <td>EKzMHI1tip8rC1-ZAy64yg</td>\n",
       "      <td>2012-01-18</td>\n",
       "      <td>2XyIOQKbVFb6uXQdJ0RzlQ</td>\n",
       "      <td>4</td>\n",
       "      <td>Should be called house of deliciousness!\\n\\nI ...</td>\n",
       "      <td>review</td>\n",
       "      <td>ROru4uk5SaYc3rg8IU7SQw</td>\n",
       "      <td>0</td>\n",
       "      <td>0</td>\n",
       "      <td>0</td>\n",
       "      <td>881</td>\n",
       "    </tr>\n",
       "    <tr>\n",
       "      <th>9997</th>\n",
       "      <td>53YGfwmbW73JhFiemNeyzQ</td>\n",
       "      <td>2010-11-16</td>\n",
       "      <td>jyznYkIbpqVmlsZxSDSypA</td>\n",
       "      <td>4</td>\n",
       "      <td>I recently visited Olive and Ivy for business ...</td>\n",
       "      <td>review</td>\n",
       "      <td>gGbN1aKQHMgfQZkqlsuwzg</td>\n",
       "      <td>0</td>\n",
       "      <td>0</td>\n",
       "      <td>0</td>\n",
       "      <td>1425</td>\n",
       "    </tr>\n",
       "    <tr>\n",
       "      <th>9998</th>\n",
       "      <td>9SKdOoDHcFoxK5ZtsgHJoA</td>\n",
       "      <td>2012-12-02</td>\n",
       "      <td>5UKq9WQE1qQbJ0DJbc-B6Q</td>\n",
       "      <td>2</td>\n",
       "      <td>My nephew just moved to Scottsdale recently so...</td>\n",
       "      <td>review</td>\n",
       "      <td>0lyVoNazXa20WzUyZPLaQQ</td>\n",
       "      <td>0</td>\n",
       "      <td>0</td>\n",
       "      <td>0</td>\n",
       "      <td>880</td>\n",
       "    </tr>\n",
       "    <tr>\n",
       "      <th>9999</th>\n",
       "      <td>pF7uRzygyZsltbmVpjIyvw</td>\n",
       "      <td>2010-10-16</td>\n",
       "      <td>vWSmOhg2ID1MNZHaWapGbA</td>\n",
       "      <td>5</td>\n",
       "      <td>4-5 locations.. all 4.5 star average.. I think...</td>\n",
       "      <td>review</td>\n",
       "      <td>KSBFytcdjPKZgXKQnYQdkA</td>\n",
       "      <td>0</td>\n",
       "      <td>0</td>\n",
       "      <td>0</td>\n",
       "      <td>461</td>\n",
       "    </tr>\n",
       "  </tbody>\n",
       "</table>\n",
       "<p>10000 rows × 11 columns</p>\n",
       "</div>"
      ],
      "text/plain": [
       "                 business_id        date               review_id  stars  \\\n",
       "0     9yKzy9PApeiPPOUJEtnvkg  2011-01-26  fWKvX83p0-ka4JS3dc6E5A      5   \n",
       "1     ZRJwVLyzEJq1VAihDhYiow  2011-07-27  IjZ33sJrzXqU-0X6U8NwyA      5   \n",
       "2     6oRAC4uyJCsJl1X0WZpVSA  2012-06-14  IESLBzqUCLdSzSqm0eCSxQ      4   \n",
       "3     _1QQZuf4zZOyFCvXc0o6Vg  2010-05-27  G-WvGaISbqqaMHlNnByodA      5   \n",
       "4     6ozycU1RpktNG2-1BroVtw  2012-01-05  1uJFq2r5QfJG_6ExMRCaGw      5   \n",
       "...                      ...         ...                     ...    ...   \n",
       "9995  VY_tvNUCCXGXQeSvJl757Q  2012-07-28  Ubyfp2RSDYW0g7Mbr8N3iA      3   \n",
       "9996  EKzMHI1tip8rC1-ZAy64yg  2012-01-18  2XyIOQKbVFb6uXQdJ0RzlQ      4   \n",
       "9997  53YGfwmbW73JhFiemNeyzQ  2010-11-16  jyznYkIbpqVmlsZxSDSypA      4   \n",
       "9998  9SKdOoDHcFoxK5ZtsgHJoA  2012-12-02  5UKq9WQE1qQbJ0DJbc-B6Q      2   \n",
       "9999  pF7uRzygyZsltbmVpjIyvw  2010-10-16  vWSmOhg2ID1MNZHaWapGbA      5   \n",
       "\n",
       "                                                   text    type  \\\n",
       "0     My wife took me here on my birthday for breakf...  review   \n",
       "1     I have no idea why some people give bad review...  review   \n",
       "2     love the gyro plate. Rice is so good and I als...  review   \n",
       "3     Rosie, Dakota, and I LOVE Chaparral Dog Park!!...  review   \n",
       "4     General Manager Scott Petello is a good egg!!!...  review   \n",
       "...                                                 ...     ...   \n",
       "9995  First visit...Had lunch here today - used my G...  review   \n",
       "9996  Should be called house of deliciousness!\\n\\nI ...  review   \n",
       "9997  I recently visited Olive and Ivy for business ...  review   \n",
       "9998  My nephew just moved to Scottsdale recently so...  review   \n",
       "9999  4-5 locations.. all 4.5 star average.. I think...  review   \n",
       "\n",
       "                     user_id  cool  useful  funny  text_length  \n",
       "0     rLtl8ZkDX5vH5nAx9C3q5Q     2       5      0          889  \n",
       "1     0a2KyEL0d3Yb1V6aivbIuQ     0       0      0         1345  \n",
       "2     0hT2KtfLiobPvh6cDC8JQg     0       1      0           76  \n",
       "3     uZetl9T0NcROGOyFfughhg     1       2      0          419  \n",
       "4     vYmM4KTsC8ZfQBg-j5MWkw     0       0      0          469  \n",
       "...                      ...   ...     ...    ...          ...  \n",
       "9995  _eqQoPtQ3e3UxLE4faT6ow     1       2      0          668  \n",
       "9996  ROru4uk5SaYc3rg8IU7SQw     0       0      0          881  \n",
       "9997  gGbN1aKQHMgfQZkqlsuwzg     0       0      0         1425  \n",
       "9998  0lyVoNazXa20WzUyZPLaQQ     0       0      0          880  \n",
       "9999  KSBFytcdjPKZgXKQnYQdkA     0       0      0          461  \n",
       "\n",
       "[10000 rows x 11 columns]"
      ]
     },
<<<<<<< Updated upstream
     "execution_count": 154,
=======
     "execution_count": 225,
>>>>>>> Stashed changes
     "metadata": {},
     "output_type": "execute_result"
    }
   ],
   "source": [
    "\n",
    "df['text_length'] = df['text'].apply(len)\n",
    "df"
   ]
  },
  {
   "cell_type": "markdown",
   "metadata": {},
   "source": [
    "# EDA\n",
    "\n",
    "Let's explore the data\n",
    "\n",
    "## Imports\n",
    "\n",
    "**Import the data visualization libraries if you haven't done so already.**"
   ]
  },
  {
   "cell_type": "code",
   "execution_count": 101,
   "metadata": {
    "collapsed": true
   },
   "outputs": [],
   "source": []
  },
  {
   "cell_type": "markdown",
   "metadata": {},
   "source": [
    "**Use FacetGrid from the seaborn library to create a grid of 5 histograms of text length based off of the star ratings. Reference the seaborn documentation for hints on this**"
   ]
  },
  {
   "cell_type": "code",
<<<<<<< Updated upstream
   "execution_count": 155,
=======
   "execution_count": 226,
>>>>>>> Stashed changes
   "metadata": {
    "collapsed": false
   },
   "outputs": [
    {
     "data": {
      "text/plain": [
<<<<<<< Updated upstream
       "<seaborn.axisgrid.FacetGrid at 0x21383a0f020>"
      ]
     },
     "execution_count": 155,
=======
       "<seaborn.axisgrid.FacetGrid at 0x20544836dd0>"
      ]
     },
     "execution_count": 226,
>>>>>>> Stashed changes
     "metadata": {},
     "output_type": "execute_result"
    },
    {
     "data": {
      "image/png": "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",
      "text/plain": [
       "<Figure size 1500x300 with 5 Axes>"
      ]
     },
     "metadata": {},
     "output_type": "display_data"
    }
   ],
   "source": [
    "g = sns.FacetGrid(df,col='stars')\n",
    "g.map(sns.histplot,'text_length')"
   ]
  },
  {
   "cell_type": "markdown",
   "metadata": {},
   "source": [
    "**Create a boxplot of text length for each star category.**"
   ]
  },
  {
   "cell_type": "code",
<<<<<<< Updated upstream
   "execution_count": 156,
=======
   "execution_count": 227,
>>>>>>> Stashed changes
   "metadata": {
    "collapsed": false
   },
   "outputs": [
    {
     "name": "stderr",
     "output_type": "stream",
     "text": [
<<<<<<< Updated upstream
      "C:\\Users\\akash\\AppData\\Local\\Temp\\ipykernel_2872\\3744979384.py:1: FutureWarning: \n",
=======
      "C:\\Users\\akash\\AppData\\Local\\Temp\\ipykernel_16256\\3744979384.py:1: FutureWarning: \n",
>>>>>>> Stashed changes
      "\n",
      "Passing `palette` without assigning `hue` is deprecated and will be removed in v0.14.0. Assign the `x` variable to `hue` and set `legend=False` for the same effect.\n",
      "\n",
      "  sns.boxplot(df,x = 'stars',y = 'text_length',palette='Set1')\n"
     ]
    },
    {
     "data": {
      "text/plain": [
       "<Axes: xlabel='stars', ylabel='text_length'>"
      ]
     },
<<<<<<< Updated upstream
     "execution_count": 156,
=======
     "execution_count": 227,
>>>>>>> Stashed changes
     "metadata": {},
     "output_type": "execute_result"
    },
    {
     "data": {
      "image/png": "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",
      "text/plain": [
       "<Figure size 640x480 with 1 Axes>"
      ]
     },
     "metadata": {},
     "output_type": "display_data"
    }
   ],
   "source": [
    "sns.boxplot(df,x = 'stars',y = 'text_length',palette='Set1')"
   ]
  },
  {
   "cell_type": "markdown",
   "metadata": {},
   "source": [
    "**Create a countplot of the number of occurrences for each type of star rating.**"
   ]
  },
  {
   "cell_type": "code",
<<<<<<< Updated upstream
   "execution_count": 157,
=======
   "execution_count": 228,
>>>>>>> Stashed changes
   "metadata": {
    "collapsed": false
   },
   "outputs": [
    {
     "name": "stderr",
     "output_type": "stream",
     "text": [
<<<<<<< Updated upstream
      "C:\\Users\\akash\\AppData\\Local\\Temp\\ipykernel_2872\\1410102075.py:1: FutureWarning: \n",
=======
      "C:\\Users\\akash\\AppData\\Local\\Temp\\ipykernel_16256\\1410102075.py:1: FutureWarning: \n",
>>>>>>> Stashed changes
      "\n",
      "Passing `palette` without assigning `hue` is deprecated and will be removed in v0.14.0. Assign the `x` variable to `hue` and set `legend=False` for the same effect.\n",
      "\n",
      "  sns.countplot(df,palette='Set1',x = 'stars')\n"
     ]
    },
    {
     "data": {
      "text/plain": [
       "<Axes: xlabel='stars', ylabel='count'>"
      ]
     },
<<<<<<< Updated upstream
     "execution_count": 157,
=======
     "execution_count": 228,
>>>>>>> Stashed changes
     "metadata": {},
     "output_type": "execute_result"
    },
    {
     "data": {
      "image/png": "iVBORw0KGgoAAAANSUhEUgAAAkQAAAGwCAYAAABIC3rIAAAAOXRFWHRTb2Z0d2FyZQBNYXRwbG90bGliIHZlcnNpb24zLjkuMiwgaHR0cHM6Ly9tYXRwbG90bGliLm9yZy8hTgPZAAAACXBIWXMAAA9hAAAPYQGoP6dpAAAth0lEQVR4nO3df1TUdd7//8eIMqIy46LCyCUSZakYaGmrcyqPKYHIunllXeuPS63MLl3sWqWUw1nzV9vS2pa5ZdqPq6jPJZdZm7VJioiBlWhKsf6oOOnFXtglA55KRkkBYb5/XMf5NmlWBLwHX/fbOe9znPf7xXue76ZzvJ+ZN6PN5/P5BAAAYLBOVg8AAABgNYIIAAAYjyACAADGI4gAAIDxCCIAAGA8gggAABiPIAIAAMbrbPUAHUFzc7OOHz+u8PBw2Ww2q8cBAAA/gs/n06lTpxQdHa1OnS79HhBB9CMcP35cMTExVo8BAABa4NixY+rXr98l1xBEP0J4eLik//sP6nA4LJ4GAAD8GF6vVzExMf6/xy+FIPoRzn9M5nA4CCIAADqYH3O7CzdVAwAA4xFEAADAeAQRAAAwHkEEAACMRxABAADjEUQAAMB4BBEAADAeQQQAAIxHEAEAAOMRRAAAwHgEEQAAMB5BBAAAjEcQAQAA4xFEAADAeJYG0bp165SYmCiHwyGHwyG3262tW7f6j48ZM0Y2my1gmzt3bsA5KisrlZaWpm7duikyMlKLFi3SuXPnAtYUFRXp+uuvl91u14ABA5STk9MelwcAADqIzlY+eb9+/fToo4/q6quvls/n08svv6zbbrtNH3/8sYYMGSJJmjNnjlauXOn/mW7duvn/3NTUpLS0NLlcLu3evVtVVVWaOXOmunTpoj/+8Y+SpIqKCqWlpWnu3LnasGGDCgsLde+996pv375KSUlp3wsGgCCwZtqzVo/QYf0u99+sHgFtxNIgmjhxYsDjRx55ROvWrdOePXv8QdStWze5XK6L/vz27dv1ySefaMeOHYqKitKwYcP08MMPKzMzU8uXL1doaKjWr1+vuLg4Pf7445KkwYMH6/3339fq1au/N4jq6+tVX1/vf+z1elvjcgEAQJAKmnuImpqatHHjRtXV1cntdvv3b9iwQb1799a1116rrKwsffPNN/5jJSUlSkhIUFRUlH9fSkqKvF6vDh8+7F+TlJQU8FwpKSkqKSn53lmys7PldDr9W0xMTGtdJgAACEKWvkMkSQcPHpTb7dbZs2fVo0cPbd68WfHx8ZKkadOmKTY2VtHR0Tpw4IAyMzNVXl6uN954Q5Lk8XgCYkiS/7HH47nkGq/XqzNnzigsLOyCmbKyspSRkeF/7PV6iSIAAC5jlgfRwIEDVVZWptraWr3++uuaNWuWiouLFR8fr/vuu8+/LiEhQX379tW4ceN09OhRXXXVVW02k91ul91ub7PzAwCA4GL5R2ahoaEaMGCAhg8fruzsbA0dOlRr1qy56NqRI0dKko4cOSJJcrlcqq6uDlhz/vH5+46+b43D4bjou0MAAMA8lgfRdzU3Nwfc0PxtZWVlkqS+fftKktxutw4ePKiamhr/moKCAjkcDv/Hbm63W4WFhQHnKSgoCLhPCQAAmM3Sj8yysrKUmpqq/v3769SpU8rNzVVRUZHy8/N19OhR5ebmasKECerVq5cOHDighQsXavTo0UpMTJQkJScnKz4+XjNmzNCqVavk8Xi0ZMkSpaen+z/ymjt3rp5++mktXrxY99xzj3bu3KlNmzYpLy/PyksHAABBxNIgqqmp0cyZM1VVVSWn06nExETl5+fr1ltv1bFjx7Rjxw49+eSTqqurU0xMjCZPnqwlS5b4fz4kJERbtmzRvHnz5Ha71b17d82aNSvge4vi4uKUl5enhQsXas2aNerXr59eeOEFvoMIAAD42Xw+n8/qIYKd1+uV0+lUbW2tHA6H1eMAwM/CFzO2HF/M2LH8lL+/g+4eIgAAgPZGEAEAAOMRRAAAwHgEEQAAMB5BBAAAjEcQAQAA4xFEAADAeAQRAAAwHkEEAACMZ+k/3QEAgMn+sTzO6hE6rCuWV7Tq+XiHCAAAGI8gAgAAxiOIAACA8QgiAABgPIIIAAAYjyACAADGI4gAAIDxCCIAAGA8gggAABiPIAIAAMYjiAAAgPEIIgAAYDyCCAAAGI8gAgAAxiOIAACA8QgiAABgPIIIAAAYjyACAADGI4gAAIDxCCIAAGA8gggAABiPIAIAAMYjiAAAgPEIIgAAYDyCCAAAGI8gAgAAxiOIAACA8QgiAABgPIIIAAAYz9IgWrdunRITE+VwOORwOOR2u7V161b/8bNnzyo9PV29evVSjx49NHnyZFVXVweco7KyUmlpaerWrZsiIyO1aNEinTt3LmBNUVGRrr/+etntdg0YMEA5OTntcXkAAKCDsDSI+vXrp0cffVSlpaXav3+/xo4dq9tuu02HDx+WJC1cuFBvv/22XnvtNRUXF+v48eO6/fbb/T/f1NSktLQ0NTQ0aPfu3Xr55ZeVk5OjpUuX+tdUVFQoLS1Nt9xyi8rKyrRgwQLde++9ys/Pb/frBQAAwcnm8/l8Vg/xbREREXrsscd0xx13qE+fPsrNzdUdd9whSfrss880ePBglZSUaNSoUdq6dat+9atf6fjx44qKipIkrV+/XpmZmTpx4oRCQ0OVmZmpvLw8HTp0yP8cU6ZM0cmTJ7Vt27aLzlBfX6/6+nr/Y6/Xq5iYGNXW1srhcLTh1QNA21sz7VmrR+iwfpf7b616vn8sj2vV85nkiuUVP7jG6/XK6XT+qL+/g+YeoqamJm3cuFF1dXVyu90qLS1VY2OjkpKS/GsGDRqk/v37q6SkRJJUUlKihIQEfwxJUkpKirxer/9dppKSkoBznF9z/hwXk52dLafT6d9iYmJa81IBAECQsTyIDh48qB49eshut2vu3LnavHmz4uPj5fF4FBoaqp49ewasj4qKksfjkSR5PJ6AGDp//PyxS63xer06c+bMRWfKyspSbW2tfzt27FhrXCoAAAhSna0eYODAgSorK1Ntba1ef/11zZo1S8XFxZbOZLfbZbfbLZ0BAAC0H8uDKDQ0VAMGDJAkDR8+XPv27dOaNWv0m9/8Rg0NDTp58mTAu0TV1dVyuVySJJfLpQ8//DDgfOd/C+3ba777m2nV1dVyOBwKCwtrq8sCAAAdiOUfmX1Xc3Oz6uvrNXz4cHXp0kWFhYX+Y+Xl5aqsrJTb7ZYkud1uHTx4UDU1Nf41BQUFcjgcio+P96/59jnOrzl/DgAAAEvfIcrKylJqaqr69++vU6dOKTc3V0VFRcrPz5fT6dTs2bOVkZGhiIgIORwO3X///XK73Ro1apQkKTk5WfHx8ZoxY4ZWrVolj8ejJUuWKD093f+R19y5c/X0009r8eLFuueee7Rz505t2rRJeXl5Vl46AAAIIpYGUU1NjWbOnKmqqio5nU4lJiYqPz9ft956qyRp9erV6tSpkyZPnqz6+nqlpKTomWee8f98SEiItmzZonnz5sntdqt79+6aNWuWVq5c6V8TFxenvLw8LVy4UGvWrFG/fv30wgsvKCUlpd2vFwAABKeg+x6iYPRTvscAAIId30PUcnwPUfC4bL+HCAAAwCoEEQAAMB5BBAAAjEcQAQAA4xFEAADAeAQRAAAwHkEEAACMRxABAADjEUQAAMB4BBEAADAeQQQAAIxHEAEAAOMRRAAAwHgEEQAAMB5BBAAAjEcQAQAA4xFEAADAeAQRAAAwHkEEAACMRxABAADjEUQAAMB4BBEAADAeQQQAAIxHEAEAAOMRRAAAwHgEEQAAMB5BBAAAjEcQAQAA4xFEAADAeAQRAAAwHkEEAACMRxABAADjEUQAAMB4BBEAADAeQQQAAIxHEAEAAOMRRAAAwHgEEQAAMB5BBAAAjGdpEGVnZ+uGG25QeHi4IiMjNWnSJJWXlwesGTNmjGw2W8A2d+7cgDWVlZVKS0tTt27dFBkZqUWLFuncuXMBa4qKinT99dfLbrdrwIABysnJaevLAwAAHYSlQVRcXKz09HTt2bNHBQUFamxsVHJysurq6gLWzZkzR1VVVf5t1apV/mNNTU1KS0tTQ0ODdu/erZdfflk5OTlaunSpf01FRYXS0tJ0yy23qKysTAsWLNC9996r/Pz8drtWAAAQvDpb+eTbtm0LeJyTk6PIyEiVlpZq9OjR/v3dunWTy+W66Dm2b9+uTz75RDt27FBUVJSGDRumhx9+WJmZmVq+fLlCQ0O1fv16xcXF6fHHH5ckDR48WO+//75Wr16tlJSUC85ZX1+v+vp6/2Ov19salwsAAIJUUN1DVFtbK0mKiIgI2L9hwwb17t1b1157rbKysvTNN9/4j5WUlCghIUFRUVH+fSkpKfJ6vTp8+LB/TVJSUsA5U1JSVFJSctE5srOz5XQ6/VtMTEyrXB8AAAhOlr5D9G3Nzc1asGCBbrzxRl177bX+/dOmTVNsbKyio6N14MABZWZmqry8XG+88YYkyePxBMSQJP9jj8dzyTVer1dnzpxRWFhYwLGsrCxlZGT4H3u9XqIIAIDLWNAEUXp6ug4dOqT3338/YP99993n/3NCQoL69u2rcePG6ejRo7rqqqvaZBa73S673d4m5wYAAMEnKD4ymz9/vrZs2aJ3331X/fr1u+TakSNHSpKOHDkiSXK5XKqurg5Yc/7x+fuOvm+Nw+G44N0hAABgHkuDyOfzaf78+dq8ebN27typuLi4H/yZsrIySVLfvn0lSW63WwcPHlRNTY1/TUFBgRwOh+Lj4/1rCgsLA85TUFAgt9vdSlcCAAA6MkuDKD09Xf/5n/+p3NxchYeHy+PxyOPx6MyZM5Kko0eP6uGHH1Zpaan+8Y9/6G9/+5tmzpyp0aNHKzExUZKUnJys+Ph4zZgxQ3//+9+Vn5+vJUuWKD093f+x19y5c/Xf//3fWrx4sT777DM988wz2rRpkxYuXGjZtQMAgOBhaRCtW7dOtbW1GjNmjPr27evfXn31VUlSaGioduzYoeTkZA0aNEgPPPCAJk+erLffftt/jpCQEG3ZskUhISFyu93613/9V82cOVMrV670r4mLi1NeXp4KCgo0dOhQPf7443rhhRcu+iv3AADAPJbeVO3z+S55PCYmRsXFxT94ntjYWL3zzjuXXDNmzBh9/PHHP2k+AABghqC4qRoAAMBKBBEAADAeQQQAAIxHEAEAAOMRRAAAwHgEEQAAMB5BBAAAjEcQAQAA4xFEAADAeAQRAAAwHkEEAACMRxABAADjEUQAAMB4BBEAADAeQQQAAIxHEAEAAOMRRAAAwHgEEQAAMB5BBAAAjEcQAQAA4xFEAADAeAQRAAAwHkEEAACMRxABAADjEUQAAMB4BBEAADAeQQQAAIxHEAEAAOMRRAAAwHgEEQAAMB5BBAAAjEcQAQAA4xFEAADAeAQRAAAwHkEEAACMRxABAADjEUQAAMB4BBEAADCepUGUnZ2tG264QeHh4YqMjNSkSZNUXl4esObs2bNKT09Xr1691KNHD02ePFnV1dUBayorK5WWlqZu3bopMjJSixYt0rlz5wLWFBUV6frrr5fdbteAAQOUk5PT1pcHAAA6CEuDqLi4WOnp6dqzZ48KCgrU2Nio5ORk1dXV+dcsXLhQb7/9tl577TUVFxfr+PHjuv322/3Hm5qalJaWpoaGBu3evVsvv/yycnJytHTpUv+aiooKpaWl6ZZbblFZWZkWLFige++9V/n5+e16vQAAIDjZfD6f76f+0NixY/XGG2+oZ8+eAfu9Xq8mTZqknTt3tmiYEydOKDIyUsXFxRo9erRqa2vVp08f5ebm6o477pAkffbZZxo8eLBKSko0atQobd26Vb/61a90/PhxRUVFSZLWr1+vzMxMnThxQqGhocrMzFReXp4OHTrkf64pU6bo5MmT2rZt2w/O5fV65XQ6VVtbK4fD0aJrA4BgsWbas1aP0GH9LvffWvV8/1ge16rnM8kVyyt+cM1P+fu7Re8QFRUVqaGh4YL9Z8+e1XvvvdeSU0qSamtrJUkRERGSpNLSUjU2NiopKcm/ZtCgQerfv79KSkokSSUlJUpISPDHkCSlpKTI6/Xq8OHD/jXfPsf5NefP8V319fXyer0BGwAAuHx1/imLDxw44P/zJ598Io/H43/c1NSkbdu26Z/+6Z9aNEhzc7MWLFigG2+8Uddee60kyePxKDQ09IJ3oqKiovzP7fF4AmLo/PHzxy61xuv16syZMwoLCws4lp2drRUrVrToOgAAQMfzk4Jo2LBhstlsstlsGjt27AXHw8LC9NRTT7VokPT0dB06dEjvv/9+i36+NWVlZSkjI8P/2Ov1KiYmxsKJAABAW/pJQVRRUSGfz6crr7xSH374ofr06eM/FhoaqsjISIWEhPzkIebPn68tW7Zo165d6tevn3+/y+VSQ0ODTp48GfAuUXV1tVwul3/Nhx9+GHC+87+F9u013/3NtOrqajkcjgveHZIku90uu93+k68DAAB0TD8piGJjYyX938dbrcHn8+n+++/X5s2bVVRUpLi4wJvLhg8fri5duqiwsFCTJ0+WJJWXl6uyslJut1uS5Ha79cgjj6impkaRkZGSpIKCAjkcDsXHx/vXvPPOOwHnLigo8J8DAACY7ScF0bd9/vnnevfdd1VTU3NBIH37V94vJT09Xbm5uXrrrbcUHh7uv+fH6XQqLCxMTqdTs2fPVkZGhiIiIuRwOHT//ffL7XZr1KhRkqTk5GTFx8drxowZWrVqlTwej5YsWaL09HT/uzxz587V008/rcWLF+uee+7Rzp07tWnTJuXl5bX08gEAwGWkRUH0/PPPa968eerdu7dcLpdsNpv/mM1m+9FBtG7dOknSmDFjAva/9NJLuuuuuyRJq1evVqdOnTR58mTV19crJSVFzzzzjH9tSEiItmzZonnz5sntdqt79+6aNWuWVq5c6V8TFxenvLw8LVy4UGvWrFG/fv30wgsvKCUlpSWXDwAALjMt+h6i2NhY/fa3v1VmZmZbzBR0+B4iAJcTvoeo5fgeouARFN9D9PXXX+vOO+9syY8CAAAEnRYF0Z133qnt27e39iwAAACWaNE9RAMGDNBDDz2kPXv2KCEhQV26dAk4/u///u+tMhwAAEB7aFEQPffcc+rRo4eKi4tVXFwccMxmsxFEAACgQ2lREFVU/PCNTAAAAB1Fi+4hAgAAuJy06B2ie+6555LHX3zxxRYNAwAAYIUWBdHXX38d8LixsVGHDh3SyZMnL/qPvgIAAASzFgXR5s2bL9jX3NysefPm6aqrrvrZQwEAALSnVruHqFOnTsrIyNDq1atb65QAAADtolVvqj569KjOnTvXmqcEAABocy36yCwjIyPgsc/nU1VVlfLy8jRr1qxWGQwAAKC9tCiIPv7444DHnTp1Up8+ffT444//4G+gAQAABJsWBdG7777b2nMAAABYpkVBdN6JEydUXl4uSRo4cKD69OnTKkMBAAC0pxbdVF1XV6d77rlHffv21ejRozV69GhFR0dr9uzZ+uabb1p7RgAAgDbVoiDKyMhQcXGx3n77bZ08eVInT57UW2+9peLiYj3wwAOtPSMAAECbatFHZn/961/1+uuva8yYMf59EyZMUFhYmP7lX/5F69ata635AAAA2lyL3iH65ptvFBUVdcH+yMhIPjIDAAAdTouCyO12a9myZTp79qx/35kzZ7RixQq53e5WGw4AAKA9tOgjsyeffFLjx49Xv379NHToUEnS3//+d9ntdm3fvr1VBwQAAGhrLQqihIQEff7559qwYYM+++wzSdLUqVM1ffp0hYWFteqAAAAAba1FQZSdna2oqCjNmTMnYP+LL76oEydOKDMzs1WGAwAAaA8tuofo2Wef1aBBgy7YP2TIEK1fv/5nDwUAANCeWhREHo9Hffv2vWB/nz59VFVV9bOHAgAAaE8tCqKYmBh98MEHF+z/4IMPFB0d/bOHAgAAaE8tuodozpw5WrBggRobGzV27FhJUmFhoRYvXsw3VQMAgA6nRUG0aNEiffnll/rtb3+rhoYGSVLXrl2VmZmprKysVh0QAACgrbUoiGw2m/70pz/poYce0qeffqqwsDBdffXVstvtrT0fAABAm2tREJ3Xo0cP3XDDDa01CwAAgCVadFM1AADA5YQgAgAAxiOIAACA8QgiAABgPIIIAAAYjyACAADGI4gAAIDxCCIAAGA8gggAABjP0iDatWuXJk6cqOjoaNlsNr355psBx++66y7ZbLaAbfz48QFrvvrqK02fPl0Oh0M9e/bU7Nmzdfr06YA1Bw4c0M0336yuXbsqJiZGq1atautLAwAAHYilQVRXV6ehQ4dq7dq137tm/Pjxqqqq8m//9V//FXB8+vTpOnz4sAoKCrRlyxbt2rVL9913n/+41+tVcnKyYmNjVVpaqscee0zLly/Xc88912bXBQAAOpaf9W+Z/VypqalKTU295Bq73S6Xy3XRY59++qm2bdumffv2acSIEZKkp556ShMmTNCf//xnRUdHa8OGDWpoaNCLL76o0NBQDRkyRGVlZXriiScCwgkAAJgr6O8hKioqUmRkpAYOHKh58+bpyy+/9B8rKSlRz549/TEkSUlJSerUqZP27t3rXzN69GiFhob616SkpKi8vFxff/31RZ+zvr5eXq83YAMAAJevoA6i8ePH65VXXlFhYaH+9Kc/qbi4WKmpqWpqapIkeTweRUZGBvxM586dFRERIY/H418TFRUVsOb84/Nrvis7O1tOp9O/xcTEtPalAQCAIGLpR2Y/ZMqUKf4/JyQkKDExUVdddZWKioo0bty4NnverKwsZWRk+B97vV6iCACAy1hQv0P0XVdeeaV69+6tI0eOSJJcLpdqamoC1pw7d05fffWV/74jl8ul6urqgDXnH3/fvUl2u10OhyNgAwAAl68OFURffPGFvvzyS/Xt21eS5Ha7dfLkSZWWlvrX7Ny5U83NzRo5cqR/za5du9TY2OhfU1BQoIEDB+oXv/hF+14AAAAISpZ+ZHb69Gn/uz2SVFFRobKyMkVERCgiIkIrVqzQ5MmT5XK5dPToUS1evFgDBgxQSkqKJGnw4MEaP3685syZo/Xr16uxsVHz58/XlClTFB0dLUmaNm2aVqxYodmzZyszM1OHDh3SmjVrtHr1akuuGTDVtP835YcX4aJyZ2y0egTgsmfpO0T79+/Xddddp+uuu06SlJGRoeuuu05Lly5VSEiIDhw4oF//+te65pprNHv2bA0fPlzvvfee7Ha7/xwbNmzQoEGDNG7cOE2YMEE33XRTwHcMOZ1Obd++XRUVFRo+fLgeeOABLV26lF+5BwAAfpa+QzRmzBj5fL7vPZ6fn/+D54iIiFBubu4l1yQmJuq99977yfMBAAAzdKh7iAAAANoCQQQAAIxHEAEAAOMRRAAAwHgEEQAAMB5BBAAAjEcQAQAA4xFEAADAeAQRAAAwHkEEAACMRxABAADjEUQAAMB4BBEAADAeQQQAAIxHEAEAAOMRRAAAwHgEEQAAMB5BBAAAjEcQAQAA4xFEAADAeAQRAAAwHkEEAACMRxABAADjEUQAAMB4BBEAADAeQQQAAIxHEAEAAOMRRAAAwHgEEQAAMB5BBAAAjEcQAQAA4xFEAADAeAQRAAAwHkEEAACMRxABAADjEUQAAMB4BBEAADAeQQQAAIxHEAEAAONZGkS7du3SxIkTFR0dLZvNpjfffDPguM/n09KlS9W3b1+FhYUpKSlJn3/+ecCar776StOnT5fD4VDPnj01e/ZsnT59OmDNgQMHdPPNN6tr166KiYnRqlWr2vrSAABAB2JpENXV1Wno0KFau3btRY+vWrVKf/nLX7R+/Xrt3btX3bt3V0pKis6ePetfM336dB0+fFgFBQXasmWLdu3apfvuu89/3Ov1Kjk5WbGxsSotLdVjjz2m5cuX67nnnmvz6wMAAB1DZyufPDU1VampqRc95vP59OSTT2rJkiW67bbbJEmvvPKKoqKi9Oabb2rKlCn69NNPtW3bNu3bt08jRoyQJD311FOaMGGC/vznPys6OlobNmxQQ0ODXnzxRYWGhmrIkCEqKyvTE088ERBOAADAXEF7D1FFRYU8Ho+SkpL8+5xOp0aOHKmSkhJJUklJiXr27OmPIUlKSkpSp06dtHfvXv+a0aNHKzQ01L8mJSVF5eXl+vrrry/63PX19fJ6vQEbAAC4fAVtEHk8HklSVFRUwP6oqCj/MY/Ho8jIyIDjnTt3VkRERMCai53j28/xXdnZ2XI6nf4tJibm518QAAAIWkEbRFbKyspSbW2tfzt27JjVIwEAgDYUtEHkcrkkSdXV1QH7q6ur/cdcLpdqamoCjp87d05fffVVwJqLnePbz/FddrtdDocjYAMAAJevoA2iuLg4uVwuFRYW+vd5vV7t3btXbrdbkuR2u3Xy5EmVlpb61+zcuVPNzc0aOXKkf82uXbvU2NjoX1NQUKCBAwfqF7/4RTtdDQAACGaWBtHp06dVVlamsrIySf93I3VZWZkqKytls9m0YMEC/eEPf9Df/vY3HTx4UDNnzlR0dLQmTZokSRo8eLDGjx+vOXPm6MMPP9QHH3yg+fPna8qUKYqOjpYkTZs2TaGhoZo9e7YOHz6sV199VWvWrFFGRoZFVw0AAIKNpb92v3//ft1yyy3+x+cjZdasWcrJydHixYtVV1en++67TydPntRNN92kbdu2qWvXrv6f2bBhg+bPn69x48apU6dOmjx5sv7yl7/4jzudTm3fvl3p6ekaPny4evfuraVLl/Ir9wAAwM/SIBozZox8Pt/3HrfZbFq5cqVWrlz5vWsiIiKUm5t7yedJTEzUe++91+I5AQDA5c3SIALa2viHXrV6hA5r28O/sXoEAGg3QXtTNQAAQHshiAAAgPEIIgAAYDyCCAAAGI8gAgAAxiOIAACA8QgiAABgPIIIAAAYjyACAADGI4gAAIDxCCIAAGA8gggAABiPIAIAAMYjiAAAgPEIIgAAYDyCCAAAGI8gAgAAxuts9QCXm/0jfmn1CB3aiP0fWj0CAMBAvEMEAACMRxABAADjEUQAAMB4BBEAADAeQQQAAIxHEAEAAOMRRAAAwHgEEQAAMB5BBAAAjEcQAQAA4xFEAADAeAQRAAAwHkEEAACMRxABAADjEUQAAMB4BBEAADAeQQQAAIxHEAEAAOMRRAAAwHgEEQAAMF5QB9Hy5ctls9kCtkGDBvmPnz17Vunp6erVq5d69OihyZMnq7q6OuAclZWVSktLU7du3RQZGalFixbp3Llz7X0pAAAgiHW2eoAfMmTIEO3YscP/uHPn/3/khQsXKi8vT6+99pqcTqfmz5+v22+/XR988IEkqampSWlpaXK5XNq9e7eqqqo0c+ZMdenSRX/84x/b/VoAAEBwCvog6ty5s1wu1wX7a2tr9R//8R/Kzc3V2LFjJUkvvfSSBg8erD179mjUqFHavn27PvnkE+3YsUNRUVEaNmyYHn74YWVmZmr58uUKDQ1t78sBAABBKKg/MpOkzz//XNHR0bryyis1ffp0VVZWSpJKS0vV2NiopKQk/9pBgwapf//+KikpkSSVlJQoISFBUVFR/jUpKSnyer06fPjw9z5nfX29vF5vwAYAAC5fQR1EI0eOVE5OjrZt26Z169apoqJCN998s06dOiWPx6PQ0FD17Nkz4GeioqLk8XgkSR6PJyCGzh8/f+z7ZGdny+l0+reYmJjWvTAAABBUgvojs9TUVP+fExMTNXLkSMXGxmrTpk0KCwtrs+fNyspSRkaG/7HX6yWKAAC4jAX1O0Tf1bNnT11zzTU6cuSIXC6XGhoadPLkyYA11dXV/nuOXC7XBb91dv7xxe5LOs9ut8vhcARsAADg8tWhguj06dM6evSo+vbtq+HDh6tLly4qLCz0Hy8vL1dlZaXcbrckye126+DBg6qpqfGvKSgokMPhUHx8fLvPDwAAglNQf2T24IMPauLEiYqNjdXx48e1bNkyhYSEaOrUqXI6nZo9e7YyMjIUEREhh8Oh+++/X263W6NGjZIkJScnKz4+XjNmzNCqVavk8Xi0ZMkSpaeny263W3x1AAAgWAR1EH3xxReaOnWqvvzyS/Xp00c33XST9uzZoz59+kiSVq9erU6dOmny5Mmqr69XSkqKnnnmGf/Ph4SEaMuWLZo3b57cbre6d++uWbNmaeXKlVZdEgAACEJBHUQbN2685PGuXbtq7dq1Wrt27feuiY2N1TvvvNPaowEAgMtIh7qHCAAAoC0QRAAAwHgEEQAAMB5BBAAAjEcQAQAA4xFEAADAeAQRAAAwHkEEAACMRxABAADjEUQAAMB4BBEAADAeQQQAAIxHEAEAAOMRRAAAwHgEEQAAMB5BBAAAjEcQAQAA4xFEAADAeAQRAAAwHkEEAACMRxABAADjEUQAAMB4BBEAADAeQQQAAIxHEAEAAOMRRAAAwHgEEQAAMB5BBAAAjEcQAQAA4xFEAADAeAQRAAAwHkEEAACMRxABAADjEUQAAMB4BBEAADAeQQQAAIxHEAEAAOMRRAAAwHgEEQAAMJ5RQbR27VpdccUV6tq1q0aOHKkPP/zQ6pEAAEAQMCaIXn31VWVkZGjZsmX66KOPNHToUKWkpKimpsbq0QAAgMWMCaInnnhCc+bM0d133634+HitX79e3bp104svvmj1aAAAwGKdrR6gPTQ0NKi0tFRZWVn+fZ06dVJSUpJKSkouWF9fX6/6+nr/49raWkmS1+v9wec63dTUChOb68f8N/4pztV/06rnM0lrvxaNZxpb9Xwmae3X4mzjmVY9n0la+7U4Vd/cquczyY95Lc6v8fl8P3xCnwH+93//1yfJt3v37oD9ixYt8v3yl7+8YP2yZct8ktjY2NjY2Ngug+3YsWM/2ApGvEP0U2VlZSkjI8P/uLm5WV999ZV69eolm81m4WQ/j9frVUxMjI4dOyaHw2H1OEbjtQgevBbBhdcjeFwOr4XP59OpU6cUHR39g2uNCKLevXsrJCRE1dXVAfurq6vlcrkuWG+322W32wP29ezZsy1HbFcOh6PD/s99ueG1CB68FsGF1yN4dPTXwul0/qh1RtxUHRoaquHDh6uwsNC/r7m5WYWFhXK73RZOBgAAgoER7xBJUkZGhmbNmqURI0bol7/8pZ588knV1dXp7rvvtno0AABgMWOC6De/+Y1OnDihpUuXyuPxaNiwYdq2bZuioqKsHq3d2O12LVu27IKPA9H+eC2CB69FcOH1CB6mvRY2n+/H/C4aAADA5cuIe4gAAAAuhSACAADGI4gAAIDxCCIAAGA8gsgAu3bt0sSJExUdHS2bzaY333zT6pGMlZ2drRtuuEHh4eGKjIzUpEmTVF5ebvVYRlq3bp0SExP9Xzrndru1detWq8eCpEcffVQ2m00LFiywehTjLF++XDabLWAbNGiQ1WO1C4LIAHV1dRo6dKjWrl1r9SjGKy4uVnp6uvbs2aOCggI1NjYqOTlZdXV1Vo9mnH79+unRRx9VaWmp9u/fr7Fjx+q2227T4cOHrR7NaPv27dOzzz6rxMREq0cx1pAhQ1RVVeXf3n//fatHahfGfA+RyVJTU5Wammr1GJC0bdu2gMc5OTmKjIxUaWmpRo8ebdFUZpo4cWLA40ceeUTr1q3Tnj17NGTIEIumMtvp06c1ffp0Pf/88/rDH/5g9TjG6ty580X/WavLHe8QARaqra2VJEVERFg8idmampq0ceNG1dXV8c/5WCg9PV1paWlKSkqyehSjff7554qOjtaVV16p6dOnq7Ky0uqR2gXvEAEWaW5u1oIFC3TjjTfq2muvtXocIx08eFBut1tnz55Vjx49tHnzZsXHx1s9lpE2btyojz76SPv27bN6FKONHDlSOTk5GjhwoKqqqrRixQrdfPPNOnTokMLDw60er00RRIBF0tPTdejQIWM+nw9GAwcOVFlZmWpra/X6669r1qxZKi4uJora2bFjx/S73/1OBQUF6tq1q9XjGO3bt1ckJiZq5MiRio2N1aZNmzR79mwLJ2t7BBFggfnz52vLli3atWuX+vXrZ/U4xgoNDdWAAQMkScOHD9e+ffu0Zs0aPfvssxZPZpbS0lLV1NTo+uuv9+9ramrSrl279PTTT6u+vl4hISEWTmiunj176pprrtGRI0esHqXNEURAO/L5fLr//vu1efNmFRUVKS4uzuqR8C3Nzc2qr6+3egzjjBs3TgcPHgzYd/fdd2vQoEHKzMwkhix0+vRpHT16VDNmzLB6lDZHEBng9OnTAXVfUVGhsrIyRUREqH///hZOZp709HTl5ubqrbfeUnh4uDwejyTJ6XQqLCzM4unMkpWVpdTUVPXv31+nTp1Sbm6uioqKlJ+fb/VoxgkPD7/gPrru3burV69e3F/Xzh588EFNnDhRsbGxOn78uJYtW6aQkBBNnTrV6tHaHEFkgP379+uWW27xP87IyJAkzZo1Szk5ORZNZaZ169ZJksaMGROw/6WXXtJdd93V/gMZrKamRjNnzlRVVZWcTqcSExOVn5+vW2+91erRAMt88cUXmjp1qr788kv16dNHN910k/bs2aM+ffpYPVqbs/l8Pp/VQwAAAFiJ7yECAADGI4gAAIDxCCIAAGA8gggAABiPIAIAAMYjiAAAgPEIIgAAYDyCCAAAGI8gAgAAxiOIAFzW7rrrLk2aNMnqMQAEOYIIAH6EhoYGq0cA0IYIIgCXhddff10JCQkKCwtTr169lJSUpEWLFunll1/WW2+9JZvNJpvNpqKiIklSZmamrrnmGnXr1k1XXnmlHnroITU2NvrPt3z5cg0bNkwvvPCC4uLi1LVr1+99nrq6OisuGUAr4l+7B9DhVVVVaerUqVq1apX++Z//WadOndJ7772nmTNnqrKyUl6vVy+99JIkKSIiQpIUHh6unJwcRUdH6+DBg5ozZ47Cw8O1ePFi/3mPHDmiv/71r3rjjTcUEhLyvc/Dv5ENdHwEEYAOr6qqSufOndPtt9+u2NhYSVJCQoIkKSwsTPX19XK5XAE/s2TJEv+fr7jiCj344IPauHFjQBA1NDTolVdeUZ8+fSRJH3300fc+D4COjY/MAHR4Q4cO1bhx45SQkKA777xTzz//vL7++utL/syrr76qG2+8US6XSz169NCSJUtUWVkZsCY2NtYfQy19HgAdA0EEoMMLCQlRQUGBtm7dqvj4eD311FMaOHCgKioqLrq+pKRE06dP14QJE7RlyxZ9/PHH+v3vf3/BjdPdu3f/Wc8DoOMgiABcFmw2m2688UatWLFCH3/8sUJDQ7V582aFhoaqqakpYO3u3bsVGxur3//+9xoxYoSuvvpq/c///M/Peh4AHRv3EAHo8Pbu3avCwkIlJycrMjJSe/fu1YkTJzR48GCdPXtW+fn5Ki8vV69eveR0OnX11VersrJSGzdu1A033KC8vLwfFTWXeh4AHRtBBKDDczgc2rVrl5588kl5vV7Fxsbq8ccfV2pqqkaMGKGioiKNGDFCp0+f1rvvvqtf//rXWrhwoebPn6/6+nqlpaXpoYce0vLly1v8PAA6NpuP3xcFAACG4x4iAABgPIIIAAAYjyACAADGI4gAAIDxCCIAAGA8gggAABiPIAIAAMYjiAAAgPEIIgAAYDyCCAAAGI8gAgAAxvv/AFjxLr4l+6edAAAAAElFTkSuQmCC",
      "text/plain": [
       "<Figure size 640x480 with 1 Axes>"
      ]
     },
     "metadata": {},
     "output_type": "display_data"
    }
   ],
   "source": [
    "sns.countplot(df,palette='Set1',x = 'stars')"
   ]
  },
  {
   "cell_type": "markdown",
   "metadata": {},
   "source": [
    "** Use groupby to get the mean values of the numerical columns, you should be able to create this dataframe with the operation:**"
   ]
  },
  {
   "cell_type": "code",
<<<<<<< Updated upstream
   "execution_count": 158,
=======
   "execution_count": 229,
>>>>>>> Stashed changes
   "metadata": {
    "collapsed": false
   },
   "outputs": [],
   "source": [
    "stats = pd.DataFrame(df.groupby('stars')[['cool','useful','funny','text_length']].mean())"
   ]
  },
  {
   "cell_type": "markdown",
   "metadata": {},
   "source": [
    "**Use the corr() method on that groupby dataframe to produce this dataframe:**"
   ]
  },
  {
   "cell_type": "code",
<<<<<<< Updated upstream
   "execution_count": 159,
=======
   "execution_count": 230,
>>>>>>> Stashed changes
   "metadata": {
    "collapsed": false
   },
   "outputs": [
    {
     "data": {
      "text/html": [
       "<div>\n",
       "<style scoped>\n",
       "    .dataframe tbody tr th:only-of-type {\n",
       "        vertical-align: middle;\n",
       "    }\n",
       "\n",
       "    .dataframe tbody tr th {\n",
       "        vertical-align: top;\n",
       "    }\n",
       "\n",
       "    .dataframe thead th {\n",
       "        text-align: right;\n",
       "    }\n",
       "</style>\n",
       "<table border=\"1\" class=\"dataframe\">\n",
       "  <thead>\n",
       "    <tr style=\"text-align: right;\">\n",
       "      <th></th>\n",
       "      <th>cool</th>\n",
       "      <th>useful</th>\n",
       "      <th>funny</th>\n",
       "      <th>text_length</th>\n",
       "    </tr>\n",
       "  </thead>\n",
       "  <tbody>\n",
       "    <tr>\n",
       "      <th>cool</th>\n",
       "      <td>1.000000</td>\n",
       "      <td>-0.743329</td>\n",
       "      <td>-0.944939</td>\n",
       "      <td>-0.857664</td>\n",
       "    </tr>\n",
       "    <tr>\n",
       "      <th>useful</th>\n",
       "      <td>-0.743329</td>\n",
       "      <td>1.000000</td>\n",
       "      <td>0.894506</td>\n",
       "      <td>0.699881</td>\n",
       "    </tr>\n",
       "    <tr>\n",
       "      <th>funny</th>\n",
       "      <td>-0.944939</td>\n",
       "      <td>0.894506</td>\n",
       "      <td>1.000000</td>\n",
       "      <td>0.843461</td>\n",
       "    </tr>\n",
       "    <tr>\n",
       "      <th>text_length</th>\n",
       "      <td>-0.857664</td>\n",
       "      <td>0.699881</td>\n",
       "      <td>0.843461</td>\n",
       "      <td>1.000000</td>\n",
       "    </tr>\n",
       "  </tbody>\n",
       "</table>\n",
       "</div>"
      ],
      "text/plain": [
       "                 cool    useful     funny  text_length\n",
       "cool         1.000000 -0.743329 -0.944939    -0.857664\n",
       "useful      -0.743329  1.000000  0.894506     0.699881\n",
       "funny       -0.944939  0.894506  1.000000     0.843461\n",
       "text_length -0.857664  0.699881  0.843461     1.000000"
      ]
     },
<<<<<<< Updated upstream
     "execution_count": 159,
=======
     "execution_count": 230,
>>>>>>> Stashed changes
     "metadata": {},
     "output_type": "execute_result"
    }
   ],
   "source": [
    "stats.corr()"
   ]
  },
  {
   "cell_type": "markdown",
   "metadata": {},
   "source": [
    "**Then use seaborn to create a heatmap based off that .corr() dataframe:**"
   ]
  },
  {
   "cell_type": "code",
<<<<<<< Updated upstream
   "execution_count": 160,
=======
   "execution_count": 231,
>>>>>>> Stashed changes
   "metadata": {
    "collapsed": false
   },
   "outputs": [
    {
     "data": {
      "text/plain": [
       "<Axes: >"
      ]
     },
<<<<<<< Updated upstream
     "execution_count": 160,
=======
     "execution_count": 231,
>>>>>>> Stashed changes
     "metadata": {},
     "output_type": "execute_result"
    },
    {
     "data": {
      "image/png": "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",
      "text/plain": [
       "<Figure size 640x480 with 2 Axes>"
      ]
     },
     "metadata": {},
     "output_type": "display_data"
    }
   ],
   "source": [
    "sns.heatmap(stats.corr(),cmap = 'flare')"
   ]
  },
  {
   "cell_type": "markdown",
   "metadata": {},
   "source": [
    "## NLP Classification Task\n",
    "\n",
    "Let's move on to the actual task. To make things a little easier, go ahead and only grab reviews that were either 1 star or 5 stars.\n",
    "\n",
    "**Create a dataframe called yelp_class that contains the columns of yelp dataframe but for only the 1 or 5 star reviews.**"
   ]
  },
  {
   "cell_type": "code",
<<<<<<< Updated upstream
   "execution_count": 161,
=======
   "execution_count": 232,
>>>>>>> Stashed changes
   "metadata": {
    "collapsed": true
   },
   "outputs": [
    {
     "data": {
      "text/html": [
       "<div>\n",
       "<style scoped>\n",
       "    .dataframe tbody tr th:only-of-type {\n",
       "        vertical-align: middle;\n",
       "    }\n",
       "\n",
       "    .dataframe tbody tr th {\n",
       "        vertical-align: top;\n",
       "    }\n",
       "\n",
       "    .dataframe thead th {\n",
       "        text-align: right;\n",
       "    }\n",
       "</style>\n",
       "<table border=\"1\" class=\"dataframe\">\n",
       "  <thead>\n",
       "    <tr style=\"text-align: right;\">\n",
       "      <th></th>\n",
       "      <th>business_id</th>\n",
       "      <th>date</th>\n",
       "      <th>review_id</th>\n",
       "      <th>stars</th>\n",
       "      <th>text</th>\n",
       "      <th>type</th>\n",
       "      <th>user_id</th>\n",
       "      <th>cool</th>\n",
       "      <th>useful</th>\n",
       "      <th>funny</th>\n",
       "      <th>text_length</th>\n",
       "    </tr>\n",
       "  </thead>\n",
       "  <tbody>\n",
       "    <tr>\n",
       "      <th>0</th>\n",
       "      <td>9yKzy9PApeiPPOUJEtnvkg</td>\n",
       "      <td>2011-01-26</td>\n",
       "      <td>fWKvX83p0-ka4JS3dc6E5A</td>\n",
       "      <td>5</td>\n",
       "      <td>My wife took me here on my birthday for breakf...</td>\n",
       "      <td>review</td>\n",
       "      <td>rLtl8ZkDX5vH5nAx9C3q5Q</td>\n",
       "      <td>2</td>\n",
       "      <td>5</td>\n",
       "      <td>0</td>\n",
       "      <td>889</td>\n",
       "    </tr>\n",
       "    <tr>\n",
       "      <th>1</th>\n",
       "      <td>ZRJwVLyzEJq1VAihDhYiow</td>\n",
       "      <td>2011-07-27</td>\n",
       "      <td>IjZ33sJrzXqU-0X6U8NwyA</td>\n",
       "      <td>5</td>\n",
       "      <td>I have no idea why some people give bad review...</td>\n",
       "      <td>review</td>\n",
       "      <td>0a2KyEL0d3Yb1V6aivbIuQ</td>\n",
       "      <td>0</td>\n",
       "      <td>0</td>\n",
       "      <td>0</td>\n",
       "      <td>1345</td>\n",
       "    </tr>\n",
       "    <tr>\n",
       "      <th>3</th>\n",
       "      <td>_1QQZuf4zZOyFCvXc0o6Vg</td>\n",
       "      <td>2010-05-27</td>\n",
       "      <td>G-WvGaISbqqaMHlNnByodA</td>\n",
       "      <td>5</td>\n",
       "      <td>Rosie, Dakota, and I LOVE Chaparral Dog Park!!...</td>\n",
       "      <td>review</td>\n",
       "      <td>uZetl9T0NcROGOyFfughhg</td>\n",
       "      <td>1</td>\n",
       "      <td>2</td>\n",
       "      <td>0</td>\n",
       "      <td>419</td>\n",
       "    </tr>\n",
       "    <tr>\n",
       "      <th>4</th>\n",
       "      <td>6ozycU1RpktNG2-1BroVtw</td>\n",
       "      <td>2012-01-05</td>\n",
       "      <td>1uJFq2r5QfJG_6ExMRCaGw</td>\n",
       "      <td>5</td>\n",
       "      <td>General Manager Scott Petello is a good egg!!!...</td>\n",
       "      <td>review</td>\n",
       "      <td>vYmM4KTsC8ZfQBg-j5MWkw</td>\n",
       "      <td>0</td>\n",
       "      <td>0</td>\n",
       "      <td>0</td>\n",
       "      <td>469</td>\n",
       "    </tr>\n",
       "    <tr>\n",
       "      <th>6</th>\n",
       "      <td>zp713qNhx8d9KCJJnrw1xA</td>\n",
       "      <td>2010-02-12</td>\n",
       "      <td>riFQ3vxNpP4rWLk_CSri2A</td>\n",
       "      <td>5</td>\n",
       "      <td>Drop what you're doing and drive here. After I...</td>\n",
       "      <td>review</td>\n",
       "      <td>wFweIWhv2fREZV_dYkz_1g</td>\n",
       "      <td>7</td>\n",
       "      <td>7</td>\n",
       "      <td>4</td>\n",
       "      <td>1565</td>\n",
       "    </tr>\n",
       "    <tr>\n",
       "      <th>...</th>\n",
       "      <td>...</td>\n",
       "      <td>...</td>\n",
       "      <td>...</td>\n",
       "      <td>...</td>\n",
       "      <td>...</td>\n",
       "      <td>...</td>\n",
       "      <td>...</td>\n",
       "      <td>...</td>\n",
       "      <td>...</td>\n",
       "      <td>...</td>\n",
       "      <td>...</td>\n",
       "    </tr>\n",
       "    <tr>\n",
       "      <th>9990</th>\n",
       "      <td>R8VwdLyvsp9iybNqRvm94g</td>\n",
       "      <td>2011-10-03</td>\n",
       "      <td>pcEeHdAJPoFNF23es0kKWg</td>\n",
       "      <td>5</td>\n",
       "      <td>Yes I do rock the hipster joints.  I dig this ...</td>\n",
       "      <td>review</td>\n",
       "      <td>b92Y3tyWTQQZ5FLifex62Q</td>\n",
       "      <td>1</td>\n",
       "      <td>1</td>\n",
       "      <td>1</td>\n",
       "      <td>263</td>\n",
       "    </tr>\n",
       "    <tr>\n",
       "      <th>9991</th>\n",
       "      <td>WJ5mq4EiWYAA4Vif0xDfdg</td>\n",
       "      <td>2011-12-05</td>\n",
       "      <td>EuHX-39FR7tyyG1ElvN1Jw</td>\n",
       "      <td>5</td>\n",
       "      <td>Only 4 stars? \\n\\n(A few notes: The folks that...</td>\n",
       "      <td>review</td>\n",
       "      <td>hTau-iNZFwoNsPCaiIUTEA</td>\n",
       "      <td>1</td>\n",
       "      <td>1</td>\n",
       "      <td>0</td>\n",
       "      <td>908</td>\n",
       "    </tr>\n",
       "    <tr>\n",
       "      <th>9992</th>\n",
       "      <td>f96lWMIAUhYIYy9gOktivQ</td>\n",
       "      <td>2009-03-10</td>\n",
       "      <td>YF17z7HWlMj6aezZc-pVEw</td>\n",
       "      <td>5</td>\n",
       "      <td>I'm not normally one to jump at reviewing a ch...</td>\n",
       "      <td>review</td>\n",
       "      <td>W_QXYA7A0IhMrvbckz7eVg</td>\n",
       "      <td>2</td>\n",
       "      <td>3</td>\n",
       "      <td>2</td>\n",
       "      <td>1326</td>\n",
       "    </tr>\n",
       "    <tr>\n",
       "      <th>9994</th>\n",
       "      <td>L3BSpFvxcNf3T_teitgt6A</td>\n",
       "      <td>2012-03-19</td>\n",
       "      <td>0nxb1gIGFgk3WbC5zwhKZg</td>\n",
       "      <td>5</td>\n",
       "      <td>Let's see...what is there NOT to like about Su...</td>\n",
       "      <td>review</td>\n",
       "      <td>OzOZv-Knlw3oz9K5Kh5S6A</td>\n",
       "      <td>1</td>\n",
       "      <td>2</td>\n",
       "      <td>1</td>\n",
       "      <td>1968</td>\n",
       "    </tr>\n",
       "    <tr>\n",
       "      <th>9999</th>\n",
       "      <td>pF7uRzygyZsltbmVpjIyvw</td>\n",
       "      <td>2010-10-16</td>\n",
       "      <td>vWSmOhg2ID1MNZHaWapGbA</td>\n",
       "      <td>5</td>\n",
       "      <td>4-5 locations.. all 4.5 star average.. I think...</td>\n",
       "      <td>review</td>\n",
       "      <td>KSBFytcdjPKZgXKQnYQdkA</td>\n",
       "      <td>0</td>\n",
       "      <td>0</td>\n",
       "      <td>0</td>\n",
       "      <td>461</td>\n",
       "    </tr>\n",
       "  </tbody>\n",
       "</table>\n",
       "<p>4086 rows × 11 columns</p>\n",
       "</div>"
      ],
      "text/plain": [
       "                 business_id        date               review_id  stars  \\\n",
       "0     9yKzy9PApeiPPOUJEtnvkg  2011-01-26  fWKvX83p0-ka4JS3dc6E5A      5   \n",
       "1     ZRJwVLyzEJq1VAihDhYiow  2011-07-27  IjZ33sJrzXqU-0X6U8NwyA      5   \n",
       "3     _1QQZuf4zZOyFCvXc0o6Vg  2010-05-27  G-WvGaISbqqaMHlNnByodA      5   \n",
       "4     6ozycU1RpktNG2-1BroVtw  2012-01-05  1uJFq2r5QfJG_6ExMRCaGw      5   \n",
       "6     zp713qNhx8d9KCJJnrw1xA  2010-02-12  riFQ3vxNpP4rWLk_CSri2A      5   \n",
       "...                      ...         ...                     ...    ...   \n",
       "9990  R8VwdLyvsp9iybNqRvm94g  2011-10-03  pcEeHdAJPoFNF23es0kKWg      5   \n",
       "9991  WJ5mq4EiWYAA4Vif0xDfdg  2011-12-05  EuHX-39FR7tyyG1ElvN1Jw      5   \n",
       "9992  f96lWMIAUhYIYy9gOktivQ  2009-03-10  YF17z7HWlMj6aezZc-pVEw      5   \n",
       "9994  L3BSpFvxcNf3T_teitgt6A  2012-03-19  0nxb1gIGFgk3WbC5zwhKZg      5   \n",
       "9999  pF7uRzygyZsltbmVpjIyvw  2010-10-16  vWSmOhg2ID1MNZHaWapGbA      5   \n",
       "\n",
       "                                                   text    type  \\\n",
       "0     My wife took me here on my birthday for breakf...  review   \n",
       "1     I have no idea why some people give bad review...  review   \n",
       "3     Rosie, Dakota, and I LOVE Chaparral Dog Park!!...  review   \n",
       "4     General Manager Scott Petello is a good egg!!!...  review   \n",
       "6     Drop what you're doing and drive here. After I...  review   \n",
       "...                                                 ...     ...   \n",
       "9990  Yes I do rock the hipster joints.  I dig this ...  review   \n",
       "9991  Only 4 stars? \\n\\n(A few notes: The folks that...  review   \n",
       "9992  I'm not normally one to jump at reviewing a ch...  review   \n",
       "9994  Let's see...what is there NOT to like about Su...  review   \n",
       "9999  4-5 locations.. all 4.5 star average.. I think...  review   \n",
       "\n",
       "                     user_id  cool  useful  funny  text_length  \n",
       "0     rLtl8ZkDX5vH5nAx9C3q5Q     2       5      0          889  \n",
       "1     0a2KyEL0d3Yb1V6aivbIuQ     0       0      0         1345  \n",
       "3     uZetl9T0NcROGOyFfughhg     1       2      0          419  \n",
       "4     vYmM4KTsC8ZfQBg-j5MWkw     0       0      0          469  \n",
       "6     wFweIWhv2fREZV_dYkz_1g     7       7      4         1565  \n",
       "...                      ...   ...     ...    ...          ...  \n",
       "9990  b92Y3tyWTQQZ5FLifex62Q     1       1      1          263  \n",
       "9991  hTau-iNZFwoNsPCaiIUTEA     1       1      0          908  \n",
       "9992  W_QXYA7A0IhMrvbckz7eVg     2       3      2         1326  \n",
       "9994  OzOZv-Knlw3oz9K5Kh5S6A     1       2      1         1968  \n",
       "9999  KSBFytcdjPKZgXKQnYQdkA     0       0      0          461  \n",
       "\n",
       "[4086 rows x 11 columns]"
      ]
     },
<<<<<<< Updated upstream
     "execution_count": 161,
=======
     "execution_count": 232,
>>>>>>> Stashed changes
     "metadata": {},
     "output_type": "execute_result"
    }
   ],
   "source": [
    "yelp = pd.DataFrame(df[(df['stars']==1)|(df['stars']==5)])\n",
    "yelp"
   ]
  },
  {
   "cell_type": "markdown",
   "metadata": {},
   "source": [
    "** Create two objects X and y. X will be the 'text' column of yelp_class and y will be the 'stars' column of yelp_class. (Your features and target/labels)**"
   ]
  },
  {
   "cell_type": "code",
<<<<<<< Updated upstream
   "execution_count": 162,
=======
   "execution_count": 233,
>>>>>>> Stashed changes
   "metadata": {
    "collapsed": true
   },
   "outputs": [],
   "source": [
    "x = yelp['text']\n",
    "y = yelp['stars']"
   ]
  },
  {
   "cell_type": "markdown",
   "metadata": {},
   "source": [
    "**Import CountVectorizer and create a CountVectorizer object.**"
   ]
  },
  {
   "cell_type": "code",
<<<<<<< Updated upstream
   "execution_count": 163,
=======
   "execution_count": 234,
>>>>>>> Stashed changes
   "metadata": {
    "collapsed": true
   },
   "outputs": [
    {
     "name": "stdout",
     "output_type": "stream",
     "text": [
      "['I', 'love', 'laptop']\n"
     ]
    }
   ],
   "source": [
    "from sklearn.feature_extraction.text import CountVectorizer\n",
    "str = 'I love laptop'\n",
    "str = str.split(' ')\n",
    "print(str)"
   ]
  },
  {
   "cell_type": "markdown",
   "metadata": {},
   "source": [
    "** Use the fit_transform method on the CountVectorizer object and pass in X (the 'text' column). Save this result by overwriting X.**"
   ]
  },
  {
   "cell_type": "code",
<<<<<<< Updated upstream
   "execution_count": 164,
=======
   "execution_count": 235,
>>>>>>> Stashed changes
   "metadata": {
    "collapsed": false
   },
   "outputs": [],
   "source": [
    "from nltk.corpus import stopwords\n",
<<<<<<< Updated upstream
    "from nlt\n",
=======
    "from nltk.stem.wordnet import WordNetLemmatizer\n",
>>>>>>> Stashed changes
    "import string\n",
    "def text_cleanup(x):\n",
    "    x = x.split()\n",
    "    x = [x for x in x if x not in stopwords.words('english')]\n",
    "    x = ' '.join(x)\n",
    "    x = [x for x in x if x not in string.punctuation ]\n",
    "    x = [x for x in x if x not in '123456789']\n",
<<<<<<< Updated upstream
    "    x = ' '.join(x)\n",
    "    \n",
=======
    "    x = ''.join(x)\n",
    "    x = x.lower()\n",
    "    x = x.split(' ')\n",
    "    lemmatizer = WordNetLemmatizer()\n",
    "    x = [lemmatizer.lemmatize(word) for word in x]\n",
    "    x = [x for x in x if x not in stopwords.words('english')]\n",
>>>>>>> Stashed changes
    "    return x\n",
    "x = CountVectorizer(analyzer=text_cleanup).fit_transform(x)"
   ]
  },
  {
   "cell_type": "markdown",
   "metadata": {},
   "source": [
    "## Train Test Split\n",
    "\n",
    "Let's split our data into training and testing data.\n",
    "\n",
    "** Use train_test_split to split up the data into X_train, X_test, y_train, y_test. Use test_size=0.3 and random_state=101 **"
   ]
  },
  {
   "cell_type": "code",
<<<<<<< Updated upstream
   "execution_count": 165,
=======
   "execution_count": 236,
>>>>>>> Stashed changes
   "metadata": {
    "collapsed": true
   },
   "outputs": [],
   "source": [
    "from sklearn.model_selection import train_test_split\n",
    "x_train,x_test,y_train,y_test = train_test_split(x,y,test_size=0.3,random_state=101)"
   ]
  },
  {
   "cell_type": "code",
   "execution_count": 166,
   "metadata": {
    "collapsed": true
   },
   "outputs": [
    {
     "data": {
      "text/plain": [
       "'!\"#$%&\\'()*+,-./:;<=>?@[\\\\]^_`{|}~'"
      ]
     },
     "execution_count": 166,
     "metadata": {},
     "output_type": "execute_result"
    }
   ],
   "source": [
    "import string\n",
    "string.punctuation"
   ]
  },
  {
   "cell_type": "markdown",
   "metadata": {},
   "source": [
    "## Training a Model\n",
    "\n",
    "Time to train a model!\n",
    "\n",
    "** Import MultinomialNB and create an instance of the estimator and call is nb **"
   ]
  },
  {
   "cell_type": "code",
<<<<<<< Updated upstream
   "execution_count": 167,
=======
   "execution_count": 237,
>>>>>>> Stashed changes
   "metadata": {
    "collapsed": true
   },
   "outputs": [],
   "source": [
    "from sklearn.naive_bayes import MultinomialNB\n",
    "from sklearn.svm import SVC\n",
    "SVC()\n",
    "prams = {'C':[0.1,1,10,100,1000],'gamma':[1,0.1,0.001,0.0001,0.00001,0.0000000001],'kernel':['rbf']}\n",
    "\n",
    "nb = MultinomialNB()"
   ]
  },
  {
   "cell_type": "markdown",
   "metadata": {},
   "source": [
    "**Now fit nb using the training data.**"
   ]
  },
  {
   "cell_type": "code",
<<<<<<< Updated upstream
   "execution_count": 168,
=======
   "execution_count": 238,
>>>>>>> Stashed changes
   "metadata": {
    "collapsed": false
   },
   "outputs": [
    {
     "data": {
      "text/html": [
<<<<<<< Updated upstream
       "<style>#sk-container-id-5 {\n",
=======
       "<style>#sk-container-id-6 {\n",
>>>>>>> Stashed changes
       "  /* Definition of color scheme common for light and dark mode */\n",
       "  --sklearn-color-text: black;\n",
       "  --sklearn-color-line: gray;\n",
       "  /* Definition of color scheme for unfitted estimators */\n",
       "  --sklearn-color-unfitted-level-0: #fff5e6;\n",
       "  --sklearn-color-unfitted-level-1: #f6e4d2;\n",
       "  --sklearn-color-unfitted-level-2: #ffe0b3;\n",
       "  --sklearn-color-unfitted-level-3: chocolate;\n",
       "  /* Definition of color scheme for fitted estimators */\n",
       "  --sklearn-color-fitted-level-0: #f0f8ff;\n",
       "  --sklearn-color-fitted-level-1: #d4ebff;\n",
       "  --sklearn-color-fitted-level-2: #b3dbfd;\n",
       "  --sklearn-color-fitted-level-3: cornflowerblue;\n",
       "\n",
       "  /* Specific color for light theme */\n",
       "  --sklearn-color-text-on-default-background: var(--sg-text-color, var(--theme-code-foreground, var(--jp-content-font-color1, black)));\n",
       "  --sklearn-color-background: var(--sg-background-color, var(--theme-background, var(--jp-layout-color0, white)));\n",
       "  --sklearn-color-border-box: var(--sg-text-color, var(--theme-code-foreground, var(--jp-content-font-color1, black)));\n",
       "  --sklearn-color-icon: #696969;\n",
       "\n",
       "  @media (prefers-color-scheme: dark) {\n",
       "    /* Redefinition of color scheme for dark theme */\n",
       "    --sklearn-color-text-on-default-background: var(--sg-text-color, var(--theme-code-foreground, var(--jp-content-font-color1, white)));\n",
       "    --sklearn-color-background: var(--sg-background-color, var(--theme-background, var(--jp-layout-color0, #111)));\n",
       "    --sklearn-color-border-box: var(--sg-text-color, var(--theme-code-foreground, var(--jp-content-font-color1, white)));\n",
       "    --sklearn-color-icon: #878787;\n",
       "  }\n",
       "}\n",
       "\n",
<<<<<<< Updated upstream
       "#sk-container-id-5 {\n",
       "  color: var(--sklearn-color-text);\n",
       "}\n",
       "\n",
       "#sk-container-id-5 pre {\n",
       "  padding: 0;\n",
       "}\n",
       "\n",
       "#sk-container-id-5 input.sk-hidden--visually {\n",
=======
       "#sk-container-id-6 {\n",
       "  color: var(--sklearn-color-text);\n",
       "}\n",
       "\n",
       "#sk-container-id-6 pre {\n",
       "  padding: 0;\n",
       "}\n",
       "\n",
       "#sk-container-id-6 input.sk-hidden--visually {\n",
>>>>>>> Stashed changes
       "  border: 0;\n",
       "  clip: rect(1px 1px 1px 1px);\n",
       "  clip: rect(1px, 1px, 1px, 1px);\n",
       "  height: 1px;\n",
       "  margin: -1px;\n",
       "  overflow: hidden;\n",
       "  padding: 0;\n",
       "  position: absolute;\n",
       "  width: 1px;\n",
       "}\n",
       "\n",
<<<<<<< Updated upstream
       "#sk-container-id-5 div.sk-dashed-wrapped {\n",
=======
       "#sk-container-id-6 div.sk-dashed-wrapped {\n",
>>>>>>> Stashed changes
       "  border: 1px dashed var(--sklearn-color-line);\n",
       "  margin: 0 0.4em 0.5em 0.4em;\n",
       "  box-sizing: border-box;\n",
       "  padding-bottom: 0.4em;\n",
       "  background-color: var(--sklearn-color-background);\n",
       "}\n",
       "\n",
<<<<<<< Updated upstream
       "#sk-container-id-5 div.sk-container {\n",
=======
       "#sk-container-id-6 div.sk-container {\n",
>>>>>>> Stashed changes
       "  /* jupyter's `normalize.less` sets `[hidden] { display: none; }`\n",
       "     but bootstrap.min.css set `[hidden] { display: none !important; }`\n",
       "     so we also need the `!important` here to be able to override the\n",
       "     default hidden behavior on the sphinx rendered scikit-learn.org.\n",
       "     See: https://github.com/scikit-learn/scikit-learn/issues/21755 */\n",
       "  display: inline-block !important;\n",
       "  position: relative;\n",
       "}\n",
       "\n",
<<<<<<< Updated upstream
       "#sk-container-id-5 div.sk-text-repr-fallback {\n",
=======
       "#sk-container-id-6 div.sk-text-repr-fallback {\n",
>>>>>>> Stashed changes
       "  display: none;\n",
       "}\n",
       "\n",
       "div.sk-parallel-item,\n",
       "div.sk-serial,\n",
       "div.sk-item {\n",
       "  /* draw centered vertical line to link estimators */\n",
       "  background-image: linear-gradient(var(--sklearn-color-text-on-default-background), var(--sklearn-color-text-on-default-background));\n",
       "  background-size: 2px 100%;\n",
       "  background-repeat: no-repeat;\n",
       "  background-position: center center;\n",
       "}\n",
       "\n",
       "/* Parallel-specific style estimator block */\n",
       "\n",
<<<<<<< Updated upstream
       "#sk-container-id-5 div.sk-parallel-item::after {\n",
=======
       "#sk-container-id-6 div.sk-parallel-item::after {\n",
>>>>>>> Stashed changes
       "  content: \"\";\n",
       "  width: 100%;\n",
       "  border-bottom: 2px solid var(--sklearn-color-text-on-default-background);\n",
       "  flex-grow: 1;\n",
       "}\n",
       "\n",
<<<<<<< Updated upstream
       "#sk-container-id-5 div.sk-parallel {\n",
=======
       "#sk-container-id-6 div.sk-parallel {\n",
>>>>>>> Stashed changes
       "  display: flex;\n",
       "  align-items: stretch;\n",
       "  justify-content: center;\n",
       "  background-color: var(--sklearn-color-background);\n",
       "  position: relative;\n",
       "}\n",
       "\n",
<<<<<<< Updated upstream
       "#sk-container-id-5 div.sk-parallel-item {\n",
=======
       "#sk-container-id-6 div.sk-parallel-item {\n",
>>>>>>> Stashed changes
       "  display: flex;\n",
       "  flex-direction: column;\n",
       "}\n",
       "\n",
<<<<<<< Updated upstream
       "#sk-container-id-5 div.sk-parallel-item:first-child::after {\n",
=======
       "#sk-container-id-6 div.sk-parallel-item:first-child::after {\n",
>>>>>>> Stashed changes
       "  align-self: flex-end;\n",
       "  width: 50%;\n",
       "}\n",
       "\n",
<<<<<<< Updated upstream
       "#sk-container-id-5 div.sk-parallel-item:last-child::after {\n",
=======
       "#sk-container-id-6 div.sk-parallel-item:last-child::after {\n",
>>>>>>> Stashed changes
       "  align-self: flex-start;\n",
       "  width: 50%;\n",
       "}\n",
       "\n",
<<<<<<< Updated upstream
       "#sk-container-id-5 div.sk-parallel-item:only-child::after {\n",
=======
       "#sk-container-id-6 div.sk-parallel-item:only-child::after {\n",
>>>>>>> Stashed changes
       "  width: 0;\n",
       "}\n",
       "\n",
       "/* Serial-specific style estimator block */\n",
       "\n",
<<<<<<< Updated upstream
       "#sk-container-id-5 div.sk-serial {\n",
=======
       "#sk-container-id-6 div.sk-serial {\n",
>>>>>>> Stashed changes
       "  display: flex;\n",
       "  flex-direction: column;\n",
       "  align-items: center;\n",
       "  background-color: var(--sklearn-color-background);\n",
       "  padding-right: 1em;\n",
       "  padding-left: 1em;\n",
       "}\n",
       "\n",
       "\n",
       "/* Toggleable style: style used for estimator/Pipeline/ColumnTransformer box that is\n",
       "clickable and can be expanded/collapsed.\n",
       "- Pipeline and ColumnTransformer use this feature and define the default style\n",
       "- Estimators will overwrite some part of the style using the `sk-estimator` class\n",
       "*/\n",
       "\n",
       "/* Pipeline and ColumnTransformer style (default) */\n",
       "\n",
<<<<<<< Updated upstream
       "#sk-container-id-5 div.sk-toggleable {\n",
=======
       "#sk-container-id-6 div.sk-toggleable {\n",
>>>>>>> Stashed changes
       "  /* Default theme specific background. It is overwritten whether we have a\n",
       "  specific estimator or a Pipeline/ColumnTransformer */\n",
       "  background-color: var(--sklearn-color-background);\n",
       "}\n",
       "\n",
       "/* Toggleable label */\n",
<<<<<<< Updated upstream
       "#sk-container-id-5 label.sk-toggleable__label {\n",
=======
       "#sk-container-id-6 label.sk-toggleable__label {\n",
>>>>>>> Stashed changes
       "  cursor: pointer;\n",
       "  display: block;\n",
       "  width: 100%;\n",
       "  margin-bottom: 0;\n",
       "  padding: 0.5em;\n",
       "  box-sizing: border-box;\n",
       "  text-align: center;\n",
       "}\n",
       "\n",
<<<<<<< Updated upstream
       "#sk-container-id-5 label.sk-toggleable__label .caption {\n",
       "  font-size: 0.6rem;\n",
       "  font-weight: lighter;\n",
       "  color: var(--sklearn-color-text-muted);\n",
       "}\n",
       "\n",
       "#sk-container-id-5 label.sk-toggleable__label-arrow:before {\n",
=======
       "#sk-container-id-6 label.sk-toggleable__label-arrow:before {\n",
>>>>>>> Stashed changes
       "  /* Arrow on the left of the label */\n",
       "  content: \"▸\";\n",
       "  float: left;\n",
       "  margin-right: 0.25em;\n",
       "  color: var(--sklearn-color-icon);\n",
       "}\n",
       "\n",
<<<<<<< Updated upstream
       "#sk-container-id-5 label.sk-toggleable__label-arrow:hover:before {\n",
=======
       "#sk-container-id-6 label.sk-toggleable__label-arrow:hover:before {\n",
>>>>>>> Stashed changes
       "  color: var(--sklearn-color-text);\n",
       "}\n",
       "\n",
       "/* Toggleable content - dropdown */\n",
       "\n",
<<<<<<< Updated upstream
       "#sk-container-id-5 div.sk-toggleable__content {\n",
=======
       "#sk-container-id-6 div.sk-toggleable__content {\n",
>>>>>>> Stashed changes
       "  max-height: 0;\n",
       "  max-width: 0;\n",
       "  overflow: hidden;\n",
       "  text-align: left;\n",
       "  /* unfitted */\n",
       "  background-color: var(--sklearn-color-unfitted-level-0);\n",
       "}\n",
       "\n",
<<<<<<< Updated upstream
       "#sk-container-id-5 div.sk-toggleable__content.fitted {\n",
=======
       "#sk-container-id-6 div.sk-toggleable__content.fitted {\n",
>>>>>>> Stashed changes
       "  /* fitted */\n",
       "  background-color: var(--sklearn-color-fitted-level-0);\n",
       "}\n",
       "\n",
<<<<<<< Updated upstream
       "#sk-container-id-5 div.sk-toggleable__content pre {\n",
=======
       "#sk-container-id-6 div.sk-toggleable__content pre {\n",
>>>>>>> Stashed changes
       "  margin: 0.2em;\n",
       "  border-radius: 0.25em;\n",
       "  color: var(--sklearn-color-text);\n",
       "  /* unfitted */\n",
       "  background-color: var(--sklearn-color-unfitted-level-0);\n",
       "}\n",
       "\n",
<<<<<<< Updated upstream
       "#sk-container-id-5 div.sk-toggleable__content.fitted pre {\n",
=======
       "#sk-container-id-6 div.sk-toggleable__content.fitted pre {\n",
>>>>>>> Stashed changes
       "  /* unfitted */\n",
       "  background-color: var(--sklearn-color-fitted-level-0);\n",
       "}\n",
       "\n",
<<<<<<< Updated upstream
       "#sk-container-id-5 input.sk-toggleable__control:checked~div.sk-toggleable__content {\n",
=======
       "#sk-container-id-6 input.sk-toggleable__control:checked~div.sk-toggleable__content {\n",
>>>>>>> Stashed changes
       "  /* Expand drop-down */\n",
       "  max-height: 200px;\n",
       "  max-width: 100%;\n",
       "  overflow: auto;\n",
       "}\n",
       "\n",
<<<<<<< Updated upstream
       "#sk-container-id-5 input.sk-toggleable__control:checked~label.sk-toggleable__label-arrow:before {\n",
=======
       "#sk-container-id-6 input.sk-toggleable__control:checked~label.sk-toggleable__label-arrow:before {\n",
>>>>>>> Stashed changes
       "  content: \"▾\";\n",
       "}\n",
       "\n",
       "/* Pipeline/ColumnTransformer-specific style */\n",
       "\n",
<<<<<<< Updated upstream
       "#sk-container-id-5 div.sk-label input.sk-toggleable__control:checked~label.sk-toggleable__label {\n",
=======
       "#sk-container-id-6 div.sk-label input.sk-toggleable__control:checked~label.sk-toggleable__label {\n",
>>>>>>> Stashed changes
       "  color: var(--sklearn-color-text);\n",
       "  background-color: var(--sklearn-color-unfitted-level-2);\n",
       "}\n",
       "\n",
<<<<<<< Updated upstream
       "#sk-container-id-5 div.sk-label.fitted input.sk-toggleable__control:checked~label.sk-toggleable__label {\n",
=======
       "#sk-container-id-6 div.sk-label.fitted input.sk-toggleable__control:checked~label.sk-toggleable__label {\n",
>>>>>>> Stashed changes
       "  background-color: var(--sklearn-color-fitted-level-2);\n",
       "}\n",
       "\n",
       "/* Estimator-specific style */\n",
       "\n",
       "/* Colorize estimator box */\n",
<<<<<<< Updated upstream
       "#sk-container-id-5 div.sk-estimator input.sk-toggleable__control:checked~label.sk-toggleable__label {\n",
=======
       "#sk-container-id-6 div.sk-estimator input.sk-toggleable__control:checked~label.sk-toggleable__label {\n",
>>>>>>> Stashed changes
       "  /* unfitted */\n",
       "  background-color: var(--sklearn-color-unfitted-level-2);\n",
       "}\n",
       "\n",
<<<<<<< Updated upstream
       "#sk-container-id-5 div.sk-estimator.fitted input.sk-toggleable__control:checked~label.sk-toggleable__label {\n",
=======
       "#sk-container-id-6 div.sk-estimator.fitted input.sk-toggleable__control:checked~label.sk-toggleable__label {\n",
>>>>>>> Stashed changes
       "  /* fitted */\n",
       "  background-color: var(--sklearn-color-fitted-level-2);\n",
       "}\n",
       "\n",
<<<<<<< Updated upstream
       "#sk-container-id-5 div.sk-label label.sk-toggleable__label,\n",
       "#sk-container-id-5 div.sk-label label {\n",
=======
       "#sk-container-id-6 div.sk-label label.sk-toggleable__label,\n",
       "#sk-container-id-6 div.sk-label label {\n",
>>>>>>> Stashed changes
       "  /* The background is the default theme color */\n",
       "  color: var(--sklearn-color-text-on-default-background);\n",
       "}\n",
       "\n",
       "/* On hover, darken the color of the background */\n",
<<<<<<< Updated upstream
       "#sk-container-id-5 div.sk-label:hover label.sk-toggleable__label {\n",
=======
       "#sk-container-id-6 div.sk-label:hover label.sk-toggleable__label {\n",
>>>>>>> Stashed changes
       "  color: var(--sklearn-color-text);\n",
       "  background-color: var(--sklearn-color-unfitted-level-2);\n",
       "}\n",
       "\n",
       "/* Label box, darken color on hover, fitted */\n",
<<<<<<< Updated upstream
       "#sk-container-id-5 div.sk-label.fitted:hover label.sk-toggleable__label.fitted {\n",
=======
       "#sk-container-id-6 div.sk-label.fitted:hover label.sk-toggleable__label.fitted {\n",
>>>>>>> Stashed changes
       "  color: var(--sklearn-color-text);\n",
       "  background-color: var(--sklearn-color-fitted-level-2);\n",
       "}\n",
       "\n",
       "/* Estimator label */\n",
       "\n",
<<<<<<< Updated upstream
       "#sk-container-id-5 div.sk-label label {\n",
=======
       "#sk-container-id-6 div.sk-label label {\n",
>>>>>>> Stashed changes
       "  font-family: monospace;\n",
       "  font-weight: bold;\n",
       "  display: inline-block;\n",
       "  line-height: 1.2em;\n",
       "}\n",
       "\n",
<<<<<<< Updated upstream
       "#sk-container-id-5 div.sk-label-container {\n",
=======
       "#sk-container-id-6 div.sk-label-container {\n",
>>>>>>> Stashed changes
       "  text-align: center;\n",
       "}\n",
       "\n",
       "/* Estimator-specific */\n",
<<<<<<< Updated upstream
       "#sk-container-id-5 div.sk-estimator {\n",
=======
       "#sk-container-id-6 div.sk-estimator {\n",
>>>>>>> Stashed changes
       "  font-family: monospace;\n",
       "  border: 1px dotted var(--sklearn-color-border-box);\n",
       "  border-radius: 0.25em;\n",
       "  box-sizing: border-box;\n",
       "  margin-bottom: 0.5em;\n",
       "  /* unfitted */\n",
       "  background-color: var(--sklearn-color-unfitted-level-0);\n",
       "}\n",
       "\n",
<<<<<<< Updated upstream
       "#sk-container-id-5 div.sk-estimator.fitted {\n",
=======
       "#sk-container-id-6 div.sk-estimator.fitted {\n",
>>>>>>> Stashed changes
       "  /* fitted */\n",
       "  background-color: var(--sklearn-color-fitted-level-0);\n",
       "}\n",
       "\n",
       "/* on hover */\n",
<<<<<<< Updated upstream
       "#sk-container-id-5 div.sk-estimator:hover {\n",
=======
       "#sk-container-id-6 div.sk-estimator:hover {\n",
>>>>>>> Stashed changes
       "  /* unfitted */\n",
       "  background-color: var(--sklearn-color-unfitted-level-2);\n",
       "}\n",
       "\n",
<<<<<<< Updated upstream
       "#sk-container-id-5 div.sk-estimator.fitted:hover {\n",
=======
       "#sk-container-id-6 div.sk-estimator.fitted:hover {\n",
>>>>>>> Stashed changes
       "  /* fitted */\n",
       "  background-color: var(--sklearn-color-fitted-level-2);\n",
       "}\n",
       "\n",
       "/* Specification for estimator info (e.g. \"i\" and \"?\") */\n",
       "\n",
       "/* Common style for \"i\" and \"?\" */\n",
       "\n",
       ".sk-estimator-doc-link,\n",
       "a:link.sk-estimator-doc-link,\n",
       "a:visited.sk-estimator-doc-link {\n",
       "  float: right;\n",
       "  font-size: smaller;\n",
       "  line-height: 1em;\n",
       "  font-family: monospace;\n",
       "  background-color: var(--sklearn-color-background);\n",
       "  border-radius: 1em;\n",
       "  height: 1em;\n",
       "  width: 1em;\n",
       "  text-decoration: none !important;\n",
       "  margin-left: 1ex;\n",
       "  /* unfitted */\n",
       "  border: var(--sklearn-color-unfitted-level-1) 1pt solid;\n",
       "  color: var(--sklearn-color-unfitted-level-1);\n",
       "}\n",
       "\n",
       ".sk-estimator-doc-link.fitted,\n",
       "a:link.sk-estimator-doc-link.fitted,\n",
       "a:visited.sk-estimator-doc-link.fitted {\n",
       "  /* fitted */\n",
       "  border: var(--sklearn-color-fitted-level-1) 1pt solid;\n",
       "  color: var(--sklearn-color-fitted-level-1);\n",
       "}\n",
       "\n",
       "/* On hover */\n",
       "div.sk-estimator:hover .sk-estimator-doc-link:hover,\n",
       ".sk-estimator-doc-link:hover,\n",
       "div.sk-label-container:hover .sk-estimator-doc-link:hover,\n",
       ".sk-estimator-doc-link:hover {\n",
       "  /* unfitted */\n",
       "  background-color: var(--sklearn-color-unfitted-level-3);\n",
       "  color: var(--sklearn-color-background);\n",
       "  text-decoration: none;\n",
       "}\n",
       "\n",
       "div.sk-estimator.fitted:hover .sk-estimator-doc-link.fitted:hover,\n",
       ".sk-estimator-doc-link.fitted:hover,\n",
       "div.sk-label-container:hover .sk-estimator-doc-link.fitted:hover,\n",
       ".sk-estimator-doc-link.fitted:hover {\n",
       "  /* fitted */\n",
       "  background-color: var(--sklearn-color-fitted-level-3);\n",
       "  color: var(--sklearn-color-background);\n",
       "  text-decoration: none;\n",
       "}\n",
       "\n",
       "/* Span, style for the box shown on hovering the info icon */\n",
       ".sk-estimator-doc-link span {\n",
       "  display: none;\n",
       "  z-index: 9999;\n",
       "  position: relative;\n",
       "  font-weight: normal;\n",
       "  right: .2ex;\n",
       "  padding: .5ex;\n",
       "  margin: .5ex;\n",
       "  width: min-content;\n",
       "  min-width: 20ex;\n",
       "  max-width: 50ex;\n",
       "  color: var(--sklearn-color-text);\n",
       "  box-shadow: 2pt 2pt 4pt #999;\n",
       "  /* unfitted */\n",
       "  background: var(--sklearn-color-unfitted-level-0);\n",
       "  border: .5pt solid var(--sklearn-color-unfitted-level-3);\n",
       "}\n",
       "\n",
       ".sk-estimator-doc-link.fitted span {\n",
       "  /* fitted */\n",
       "  background: var(--sklearn-color-fitted-level-0);\n",
       "  border: var(--sklearn-color-fitted-level-3);\n",
       "}\n",
       "\n",
       ".sk-estimator-doc-link:hover span {\n",
       "  display: block;\n",
       "}\n",
       "\n",
       "/* \"?\"-specific style due to the `<a>` HTML tag */\n",
       "\n",
<<<<<<< Updated upstream
       "#sk-container-id-5 a.estimator_doc_link {\n",
=======
       "#sk-container-id-6 a.estimator_doc_link {\n",
>>>>>>> Stashed changes
       "  float: right;\n",
       "  font-size: 1rem;\n",
       "  line-height: 1em;\n",
       "  font-family: monospace;\n",
       "  background-color: var(--sklearn-color-background);\n",
       "  border-radius: 1rem;\n",
       "  height: 1rem;\n",
       "  width: 1rem;\n",
       "  text-decoration: none;\n",
       "  /* unfitted */\n",
       "  color: var(--sklearn-color-unfitted-level-1);\n",
       "  border: var(--sklearn-color-unfitted-level-1) 1pt solid;\n",
       "}\n",
       "\n",
<<<<<<< Updated upstream
       "#sk-container-id-5 a.estimator_doc_link.fitted {\n",
=======
       "#sk-container-id-6 a.estimator_doc_link.fitted {\n",
>>>>>>> Stashed changes
       "  /* fitted */\n",
       "  border: var(--sklearn-color-fitted-level-1) 1pt solid;\n",
       "  color: var(--sklearn-color-fitted-level-1);\n",
       "}\n",
       "\n",
       "/* On hover */\n",
<<<<<<< Updated upstream
       "#sk-container-id-5 a.estimator_doc_link:hover {\n",
=======
       "#sk-container-id-6 a.estimator_doc_link:hover {\n",
>>>>>>> Stashed changes
       "  /* unfitted */\n",
       "  background-color: var(--sklearn-color-unfitted-level-3);\n",
       "  color: var(--sklearn-color-background);\n",
       "  text-decoration: none;\n",
       "}\n",
       "\n",
<<<<<<< Updated upstream
       "#sk-container-id-5 a.estimator_doc_link.fitted:hover {\n",
       "  /* fitted */\n",
       "  background-color: var(--sklearn-color-fitted-level-3);\n",
       "}\n",
       "</style><div id=\"sk-container-id-5\" class=\"sk-top-container\"><div class=\"sk-text-repr-fallback\"><pre>MultinomialNB()</pre><b>In a Jupyter environment, please rerun this cell to show the HTML representation or trust the notebook. <br />On GitHub, the HTML representation is unable to render, please try loading this page with nbviewer.org.</b></div><div class=\"sk-container\" hidden><div class=\"sk-item\"><div class=\"sk-estimator fitted sk-toggleable\"><input class=\"sk-toggleable__control sk-hidden--visually\" id=\"sk-estimator-id-5\" type=\"checkbox\" checked><label for=\"sk-estimator-id-5\" class=\"sk-toggleable__label fitted sk-toggleable__label-arrow\"><div><div>MultinomialNB</div></div><div><a class=\"sk-estimator-doc-link fitted\" rel=\"noreferrer\" target=\"_blank\" href=\"https://scikit-learn.org/1.6/modules/generated/sklearn.naive_bayes.MultinomialNB.html\">?<span>Documentation for MultinomialNB</span></a><span class=\"sk-estimator-doc-link fitted\">i<span>Fitted</span></span></div></label><div class=\"sk-toggleable__content fitted\"><pre>MultinomialNB()</pre></div> </div></div></div></div>"
=======
       "#sk-container-id-6 a.estimator_doc_link.fitted:hover {\n",
       "  /* fitted */\n",
       "  background-color: var(--sklearn-color-fitted-level-3);\n",
       "}\n",
       "</style><div id=\"sk-container-id-6\" class=\"sk-top-container\"><div class=\"sk-text-repr-fallback\"><pre>MultinomialNB()</pre><b>In a Jupyter environment, please rerun this cell to show the HTML representation or trust the notebook. <br />On GitHub, the HTML representation is unable to render, please try loading this page with nbviewer.org.</b></div><div class=\"sk-container\" hidden><div class=\"sk-item\"><div class=\"sk-estimator fitted sk-toggleable\"><input class=\"sk-toggleable__control sk-hidden--visually\" id=\"sk-estimator-id-6\" type=\"checkbox\" checked><label for=\"sk-estimator-id-6\" class=\"sk-toggleable__label fitted sk-toggleable__label-arrow fitted\">&nbsp;&nbsp;MultinomialNB<a class=\"sk-estimator-doc-link fitted\" rel=\"noreferrer\" target=\"_blank\" href=\"https://scikit-learn.org/1.5/modules/generated/sklearn.naive_bayes.MultinomialNB.html\">?<span>Documentation for MultinomialNB</span></a><span class=\"sk-estimator-doc-link fitted\">i<span>Fitted</span></span></label><div class=\"sk-toggleable__content fitted\"><pre>MultinomialNB()</pre></div> </div></div></div></div>"
>>>>>>> Stashed changes
      ],
      "text/plain": [
       "MultinomialNB()"
      ]
     },
<<<<<<< Updated upstream
     "execution_count": 168,
=======
     "execution_count": 238,
>>>>>>> Stashed changes
     "metadata": {},
     "output_type": "execute_result"
    }
   ],
   "source": [
    "nb.fit(x_train,y_train)"
   ]
  },
  {
   "cell_type": "markdown",
   "metadata": {},
   "source": [
    "## Predictions and Evaluations\n",
    "\n",
    "Time to see how our model did!\n",
    "\n",
    "**Use the predict method off of nb to predict labels from X_test.**"
   ]
  },
  {
   "cell_type": "code",
<<<<<<< Updated upstream
   "execution_count": 169,
=======
   "execution_count": 239,
>>>>>>> Stashed changes
   "metadata": {
    "collapsed": true
   },
   "outputs": [],
   "source": [
    "pred = nb.predict(x_test)"
   ]
  },
  {
   "cell_type": "markdown",
   "metadata": {},
   "source": [
    "** Create a confusion matrix and classification report using these predictions and y_test **"
   ]
  },
  {
   "cell_type": "code",
<<<<<<< Updated upstream
   "execution_count": 170,
=======
   "execution_count": 240,
>>>>>>> Stashed changes
   "metadata": {
    "collapsed": true
   },
   "outputs": [
    {
     "name": "stdout",
     "output_type": "stream",
     "text": [
      "              precision    recall  f1-score   support\n",
      "\n",
<<<<<<< Updated upstream
      "           1       0.54      0.39      0.45       228\n",
      "           5       0.87      0.92      0.90       998\n",
      "\n",
      "    accuracy                           0.83      1226\n",
      "   macro avg       0.71      0.66      0.68      1226\n",
      "weighted avg       0.81      0.83      0.81      1226\n",
      "\n",
      "[[ 89 139]\n",
      " [ 75 923]]\n"
=======
      "           1       0.85      0.64      0.73       228\n",
      "           5       0.92      0.97      0.95       998\n",
      "\n",
      "    accuracy                           0.91      1226\n",
      "   macro avg       0.88      0.80      0.84      1226\n",
      "weighted avg       0.91      0.91      0.91      1226\n",
      "\n",
      "[[145  83]\n",
      " [ 26 972]]\n"
>>>>>>> Stashed changes
     ]
    }
   ],
   "source": [
    "from sklearn.metrics import classification_report,confusion_matrix\n",
    "print(classification_report(y_test,pred))\n",
    "print(confusion_matrix(y_test,pred))"
   ]
  },
  {
   "cell_type": "code",
   "execution_count": null,
   "metadata": {
    "collapsed": false
   },
   "outputs": [],
   "source": []
  },
  {
   "cell_type": "markdown",
   "metadata": {},
   "source": [
    "**Great! Let's see what happens if we try to include TF-IDF to this process using a pipeline.**"
   ]
  },
  {
   "cell_type": "markdown",
   "metadata": {},
   "source": [
    "# Using Text Processing\n",
    "\n",
    "** Import TfidfTransformer from sklearn. **"
   ]
  },
  {
   "cell_type": "code",
<<<<<<< Updated upstream
   "execution_count": 171,
=======
   "execution_count": 241,
>>>>>>> Stashed changes
   "metadata": {
    "collapsed": true
   },
   "outputs": [],
   "source": [
    "from sklearn.feature_extraction.text import TfidfTransformer\n",
    "tfidf = TfidfTransformer()"
   ]
  },
  {
   "cell_type": "markdown",
   "metadata": {},
   "source": [
    "** Import Pipeline from sklearn. **"
   ]
  },
  {
   "cell_type": "code",
<<<<<<< Updated upstream
   "execution_count": 172,
=======
   "execution_count": 242,
>>>>>>> Stashed changes
   "metadata": {
    "collapsed": true
   },
   "outputs": [],
   "source": [
    "from sklearn.pipeline import Pipeline\n",
    "from sklearn.neighbors import  KNeighborsClassifier\n",
    "from sklearn.svm import SVC"
   ]
  },
  {
   "cell_type": "markdown",
   "metadata": {},
   "source": [
    "** Now create a pipeline with the following steps:CountVectorizer(), TfidfTransformer(),MultinomialNB()**"
   ]
  },
  {
   "cell_type": "code",
<<<<<<< Updated upstream
   "execution_count": 173,
=======
   "execution_count": 247,
>>>>>>> Stashed changes
   "metadata": {
    "collapsed": false
   },
   "outputs": [],
   "source": [
    "pipeline = Pipeline([('bow',CountVectorizer(analyzer=text_cleanup)),\n",
    "                     ('tfidf',TfidfTransformer()),\n",
    "                     ('classifier',MultinomialNB())])"
   ]
  },
  {
   "cell_type": "markdown",
   "metadata": {},
   "source": [
    "## Using the Pipeline\n",
    "\n",
    "**Time to use the pipeline! Remember this pipeline has all your pre-process steps in it already, meaning we'll need to re-split the original data (Remember that we overwrote X as the CountVectorized version. What we need is just the text**"
   ]
  },
  {
   "cell_type": "markdown",
   "metadata": {},
   "source": [
    "### Train Test Split\n",
    "\n",
    "**Redo the train test split on the yelp_class object.**"
   ]
  },
  {
   "cell_type": "code",
<<<<<<< Updated upstream
   "execution_count": 174,
=======
   "execution_count": 248,
>>>>>>> Stashed changes
   "metadata": {
    "collapsed": true
   },
   "outputs": [],
   "source": [
    "x = yelp['text']\n",
    "y = yelp['stars']\n",
    "x_train,x_test,y_train,y_test = train_test_split(x,y,test_size=0.3)\n"
   ]
  },
  {
   "cell_type": "markdown",
   "metadata": {},
   "source": [
    "**Now fit the pipeline to the training data. Remember you can't use the same training data as last time because that data has already been vectorized. We need to pass in just the text and labels**"
   ]
  },
  {
   "cell_type": "code",
<<<<<<< Updated upstream
   "execution_count": 175,
   "metadata": {
    "collapsed": false
   },
   "outputs": [
    {
     "ename": "KeyboardInterrupt",
     "evalue": "",
     "output_type": "error",
     "traceback": [
      "\u001b[1;31m---------------------------------------------------------------------------\u001b[0m",
      "\u001b[1;31mKeyboardInterrupt\u001b[0m                         Traceback (most recent call last)",
      "Cell \u001b[1;32mIn[175], line 2\u001b[0m\n\u001b[0;32m      1\u001b[0m pipeline\u001b[38;5;241m.\u001b[39mfit(x_train,y_train)\n\u001b[1;32m----> 2\u001b[0m pred \u001b[38;5;241m=\u001b[39m \u001b[43mpipeline\u001b[49m\u001b[38;5;241;43m.\u001b[39;49m\u001b[43mpredict\u001b[49m\u001b[43m(\u001b[49m\u001b[43mx_test\u001b[49m\u001b[43m)\u001b[49m\n",
      "File \u001b[1;32m~\\AppData\\Local\\Packages\\PythonSoftwareFoundation.Python.3.12_qbz5n2kfra8p0\\LocalCache\\local-packages\\Python312\\site-packages\\sklearn\\pipeline.py:785\u001b[0m, in \u001b[0;36mPipeline.predict\u001b[1;34m(self, X, **params)\u001b[0m\n\u001b[0;32m    783\u001b[0m \u001b[38;5;28;01mif\u001b[39;00m \u001b[38;5;129;01mnot\u001b[39;00m _routing_enabled():\n\u001b[0;32m    784\u001b[0m     \u001b[38;5;28;01mfor\u001b[39;00m _, name, transform \u001b[38;5;129;01min\u001b[39;00m \u001b[38;5;28mself\u001b[39m\u001b[38;5;241m.\u001b[39m_iter(with_final\u001b[38;5;241m=\u001b[39m\u001b[38;5;28;01mFalse\u001b[39;00m):\n\u001b[1;32m--> 785\u001b[0m         Xt \u001b[38;5;241m=\u001b[39m \u001b[43mtransform\u001b[49m\u001b[38;5;241;43m.\u001b[39;49m\u001b[43mtransform\u001b[49m\u001b[43m(\u001b[49m\u001b[43mXt\u001b[49m\u001b[43m)\u001b[49m\n\u001b[0;32m    786\u001b[0m     \u001b[38;5;28;01mreturn\u001b[39;00m \u001b[38;5;28mself\u001b[39m\u001b[38;5;241m.\u001b[39msteps[\u001b[38;5;241m-\u001b[39m\u001b[38;5;241m1\u001b[39m][\u001b[38;5;241m1\u001b[39m]\u001b[38;5;241m.\u001b[39mpredict(Xt, \u001b[38;5;241m*\u001b[39m\u001b[38;5;241m*\u001b[39mparams)\n\u001b[0;32m    788\u001b[0m \u001b[38;5;66;03m# metadata routing enabled\u001b[39;00m\n",
      "File \u001b[1;32m~\\AppData\\Local\\Packages\\PythonSoftwareFoundation.Python.3.12_qbz5n2kfra8p0\\LocalCache\\local-packages\\Python312\\site-packages\\sklearn\\feature_extraction\\text.py:1421\u001b[0m, in \u001b[0;36mCountVectorizer.transform\u001b[1;34m(self, raw_documents)\u001b[0m\n\u001b[0;32m   1418\u001b[0m \u001b[38;5;28mself\u001b[39m\u001b[38;5;241m.\u001b[39m_check_vocabulary()\n\u001b[0;32m   1420\u001b[0m \u001b[38;5;66;03m# use the same matrix-building strategy as fit_transform\u001b[39;00m\n\u001b[1;32m-> 1421\u001b[0m _, X \u001b[38;5;241m=\u001b[39m \u001b[38;5;28;43mself\u001b[39;49m\u001b[38;5;241;43m.\u001b[39;49m\u001b[43m_count_vocab\u001b[49m\u001b[43m(\u001b[49m\u001b[43mraw_documents\u001b[49m\u001b[43m,\u001b[49m\u001b[43m \u001b[49m\u001b[43mfixed_vocab\u001b[49m\u001b[38;5;241;43m=\u001b[39;49m\u001b[38;5;28;43;01mTrue\u001b[39;49;00m\u001b[43m)\u001b[49m\n\u001b[0;32m   1422\u001b[0m \u001b[38;5;28;01mif\u001b[39;00m \u001b[38;5;28mself\u001b[39m\u001b[38;5;241m.\u001b[39mbinary:\n\u001b[0;32m   1423\u001b[0m     X\u001b[38;5;241m.\u001b[39mdata\u001b[38;5;241m.\u001b[39mfill(\u001b[38;5;241m1\u001b[39m)\n",
      "File \u001b[1;32m~\\AppData\\Local\\Packages\\PythonSoftwareFoundation.Python.3.12_qbz5n2kfra8p0\\LocalCache\\local-packages\\Python312\\site-packages\\sklearn\\feature_extraction\\text.py:1263\u001b[0m, in \u001b[0;36mCountVectorizer._count_vocab\u001b[1;34m(self, raw_documents, fixed_vocab)\u001b[0m\n\u001b[0;32m   1261\u001b[0m \u001b[38;5;28;01mfor\u001b[39;00m doc \u001b[38;5;129;01min\u001b[39;00m raw_documents:\n\u001b[0;32m   1262\u001b[0m     feature_counter \u001b[38;5;241m=\u001b[39m {}\n\u001b[1;32m-> 1263\u001b[0m     \u001b[38;5;28;01mfor\u001b[39;00m feature \u001b[38;5;129;01min\u001b[39;00m \u001b[43manalyze\u001b[49m\u001b[43m(\u001b[49m\u001b[43mdoc\u001b[49m\u001b[43m)\u001b[49m:\n\u001b[0;32m   1264\u001b[0m         \u001b[38;5;28;01mtry\u001b[39;00m:\n\u001b[0;32m   1265\u001b[0m             feature_idx \u001b[38;5;241m=\u001b[39m vocabulary[feature]\n",
      "File \u001b[1;32m~\\AppData\\Local\\Packages\\PythonSoftwareFoundation.Python.3.12_qbz5n2kfra8p0\\LocalCache\\local-packages\\Python312\\site-packages\\sklearn\\feature_extraction\\text.py:101\u001b[0m, in \u001b[0;36m_analyze\u001b[1;34m(doc, analyzer, tokenizer, ngrams, preprocessor, decoder, stop_words)\u001b[0m\n\u001b[0;32m     99\u001b[0m     doc \u001b[38;5;241m=\u001b[39m decoder(doc)\n\u001b[0;32m    100\u001b[0m \u001b[38;5;28;01mif\u001b[39;00m analyzer \u001b[38;5;129;01mis\u001b[39;00m \u001b[38;5;129;01mnot\u001b[39;00m \u001b[38;5;28;01mNone\u001b[39;00m:\n\u001b[1;32m--> 101\u001b[0m     doc \u001b[38;5;241m=\u001b[39m \u001b[43manalyzer\u001b[49m\u001b[43m(\u001b[49m\u001b[43mdoc\u001b[49m\u001b[43m)\u001b[49m\n\u001b[0;32m    102\u001b[0m \u001b[38;5;28;01melse\u001b[39;00m:\n\u001b[0;32m    103\u001b[0m     \u001b[38;5;28;01mif\u001b[39;00m preprocessor \u001b[38;5;129;01mis\u001b[39;00m \u001b[38;5;129;01mnot\u001b[39;00m \u001b[38;5;28;01mNone\u001b[39;00m:\n",
      "Cell \u001b[1;32mIn[164], line 5\u001b[0m, in \u001b[0;36mtext_cleanup\u001b[1;34m(x)\u001b[0m\n\u001b[0;32m      3\u001b[0m \u001b[38;5;28;01mdef\u001b[39;00m \u001b[38;5;21mtext_cleanup\u001b[39m(x):\n\u001b[0;32m      4\u001b[0m     x \u001b[38;5;241m=\u001b[39m x\u001b[38;5;241m.\u001b[39msplit()\n\u001b[1;32m----> 5\u001b[0m     x \u001b[38;5;241m=\u001b[39m [x \u001b[38;5;28;01mfor\u001b[39;00m x \u001b[38;5;129;01min\u001b[39;00m x \u001b[38;5;28;01mif\u001b[39;00m x \u001b[38;5;129;01mnot\u001b[39;00m \u001b[38;5;129;01min\u001b[39;00m \u001b[43mstopwords\u001b[49m\u001b[38;5;241;43m.\u001b[39;49m\u001b[43mwords\u001b[49m\u001b[43m(\u001b[49m\u001b[38;5;124;43m'\u001b[39;49m\u001b[38;5;124;43menglish\u001b[39;49m\u001b[38;5;124;43m'\u001b[39;49m\u001b[43m)\u001b[49m]\n\u001b[0;32m      6\u001b[0m     x \u001b[38;5;241m=\u001b[39m \u001b[38;5;124m'\u001b[39m\u001b[38;5;124m \u001b[39m\u001b[38;5;124m'\u001b[39m\u001b[38;5;241m.\u001b[39mjoin(x)\n\u001b[0;32m      7\u001b[0m     x \u001b[38;5;241m=\u001b[39m [x \u001b[38;5;28;01mfor\u001b[39;00m x \u001b[38;5;129;01min\u001b[39;00m x \u001b[38;5;28;01mif\u001b[39;00m x \u001b[38;5;129;01mnot\u001b[39;00m \u001b[38;5;129;01min\u001b[39;00m string\u001b[38;5;241m.\u001b[39mpunctuation ]\n",
      "File \u001b[1;32m~\\AppData\\Local\\Packages\\PythonSoftwareFoundation.Python.3.12_qbz5n2kfra8p0\\LocalCache\\local-packages\\Python312\\site-packages\\nltk\\corpus\\reader\\wordlist.py:21\u001b[0m, in \u001b[0;36mWordListCorpusReader.words\u001b[1;34m(self, fileids, ignore_lines_startswith)\u001b[0m\n\u001b[0;32m     18\u001b[0m \u001b[38;5;28;01mdef\u001b[39;00m \u001b[38;5;21mwords\u001b[39m(\u001b[38;5;28mself\u001b[39m, fileids\u001b[38;5;241m=\u001b[39m\u001b[38;5;28;01mNone\u001b[39;00m, ignore_lines_startswith\u001b[38;5;241m=\u001b[39m\u001b[38;5;124m\"\u001b[39m\u001b[38;5;130;01m\\n\u001b[39;00m\u001b[38;5;124m\"\u001b[39m):\n\u001b[0;32m     19\u001b[0m     \u001b[38;5;28;01mreturn\u001b[39;00m [\n\u001b[0;32m     20\u001b[0m         line\n\u001b[1;32m---> 21\u001b[0m         \u001b[38;5;28;01mfor\u001b[39;00m line \u001b[38;5;129;01min\u001b[39;00m line_tokenize(\u001b[38;5;28;43mself\u001b[39;49m\u001b[38;5;241;43m.\u001b[39;49m\u001b[43mraw\u001b[49m\u001b[43m(\u001b[49m\u001b[43mfileids\u001b[49m\u001b[43m)\u001b[49m)\n\u001b[0;32m     22\u001b[0m         \u001b[38;5;28;01mif\u001b[39;00m \u001b[38;5;129;01mnot\u001b[39;00m line\u001b[38;5;241m.\u001b[39mstartswith(ignore_lines_startswith)\n\u001b[0;32m     23\u001b[0m     ]\n",
      "File \u001b[1;32m~\\AppData\\Local\\Packages\\PythonSoftwareFoundation.Python.3.12_qbz5n2kfra8p0\\LocalCache\\local-packages\\Python312\\site-packages\\nltk\\corpus\\reader\\api.py:218\u001b[0m, in \u001b[0;36mCorpusReader.raw\u001b[1;34m(self, fileids)\u001b[0m\n\u001b[0;32m    216\u001b[0m contents \u001b[38;5;241m=\u001b[39m []\n\u001b[0;32m    217\u001b[0m \u001b[38;5;28;01mfor\u001b[39;00m f \u001b[38;5;129;01min\u001b[39;00m fileids:\n\u001b[1;32m--> 218\u001b[0m     \u001b[38;5;28;01mwith\u001b[39;00m \u001b[38;5;28;43mself\u001b[39;49m\u001b[38;5;241;43m.\u001b[39;49m\u001b[43mopen\u001b[49m\u001b[43m(\u001b[49m\u001b[43mf\u001b[49m\u001b[43m)\u001b[49m \u001b[38;5;28;01mas\u001b[39;00m fp:\n\u001b[0;32m    219\u001b[0m         contents\u001b[38;5;241m.\u001b[39mappend(fp\u001b[38;5;241m.\u001b[39mread())\n\u001b[0;32m    220\u001b[0m \u001b[38;5;28;01mreturn\u001b[39;00m concat(contents)\n",
      "File \u001b[1;32m~\\AppData\\Local\\Packages\\PythonSoftwareFoundation.Python.3.12_qbz5n2kfra8p0\\LocalCache\\local-packages\\Python312\\site-packages\\nltk\\corpus\\reader\\api.py:231\u001b[0m, in \u001b[0;36mCorpusReader.open\u001b[1;34m(self, file)\u001b[0m\n\u001b[0;32m    223\u001b[0m \u001b[38;5;250m\u001b[39m\u001b[38;5;124;03m\"\"\"\u001b[39;00m\n\u001b[0;32m    224\u001b[0m \u001b[38;5;124;03mReturn an open stream that can be used to read the given file.\u001b[39;00m\n\u001b[0;32m    225\u001b[0m \u001b[38;5;124;03mIf the file's encoding is not None, then the stream will\u001b[39;00m\n\u001b[1;32m   (...)\u001b[0m\n\u001b[0;32m    228\u001b[0m \u001b[38;5;124;03m:param file: The file identifier of the file to read.\u001b[39;00m\n\u001b[0;32m    229\u001b[0m \u001b[38;5;124;03m\"\"\"\u001b[39;00m\n\u001b[0;32m    230\u001b[0m encoding \u001b[38;5;241m=\u001b[39m \u001b[38;5;28mself\u001b[39m\u001b[38;5;241m.\u001b[39mencoding(file)\n\u001b[1;32m--> 231\u001b[0m stream \u001b[38;5;241m=\u001b[39m \u001b[38;5;28;43mself\u001b[39;49m\u001b[38;5;241;43m.\u001b[39;49m\u001b[43m_root\u001b[49m\u001b[38;5;241;43m.\u001b[39;49m\u001b[43mjoin\u001b[49m\u001b[43m(\u001b[49m\u001b[43mfile\u001b[49m\u001b[43m)\u001b[49m\u001b[38;5;241m.\u001b[39mopen(encoding)\n\u001b[0;32m    232\u001b[0m \u001b[38;5;28;01mreturn\u001b[39;00m stream\n",
      "File \u001b[1;32m~\\AppData\\Local\\Packages\\PythonSoftwareFoundation.Python.3.12_qbz5n2kfra8p0\\LocalCache\\local-packages\\Python312\\site-packages\\nltk\\data.py:333\u001b[0m, in \u001b[0;36mFileSystemPathPointer.join\u001b[1;34m(self, fileid)\u001b[0m\n\u001b[0;32m    331\u001b[0m \u001b[38;5;28;01mdef\u001b[39;00m \u001b[38;5;21mjoin\u001b[39m(\u001b[38;5;28mself\u001b[39m, fileid):\n\u001b[0;32m    332\u001b[0m     _path \u001b[38;5;241m=\u001b[39m os\u001b[38;5;241m.\u001b[39mpath\u001b[38;5;241m.\u001b[39mjoin(\u001b[38;5;28mself\u001b[39m\u001b[38;5;241m.\u001b[39m_path, fileid)\n\u001b[1;32m--> 333\u001b[0m     \u001b[38;5;28;01mreturn\u001b[39;00m \u001b[43mFileSystemPathPointer\u001b[49m\u001b[43m(\u001b[49m\u001b[43m_path\u001b[49m\u001b[43m)\u001b[49m\n",
      "File \u001b[1;32m~\\AppData\\Local\\Packages\\PythonSoftwareFoundation.Python.3.12_qbz5n2kfra8p0\\LocalCache\\local-packages\\Python312\\site-packages\\nltk\\data.py:310\u001b[0m, in \u001b[0;36mFileSystemPathPointer.__init__\u001b[1;34m(self, _path)\u001b[0m\n\u001b[0;32m    303\u001b[0m \u001b[38;5;250m\u001b[39m\u001b[38;5;124;03m\"\"\"\u001b[39;00m\n\u001b[0;32m    304\u001b[0m \u001b[38;5;124;03mCreate a new path pointer for the given absolute path.\u001b[39;00m\n\u001b[0;32m    305\u001b[0m \n\u001b[0;32m    306\u001b[0m \u001b[38;5;124;03m:raise IOError: If the given path does not exist.\u001b[39;00m\n\u001b[0;32m    307\u001b[0m \u001b[38;5;124;03m\"\"\"\u001b[39;00m\n\u001b[0;32m    309\u001b[0m _path \u001b[38;5;241m=\u001b[39m os\u001b[38;5;241m.\u001b[39mpath\u001b[38;5;241m.\u001b[39mabspath(_path)\n\u001b[1;32m--> 310\u001b[0m \u001b[38;5;28;01mif\u001b[39;00m \u001b[38;5;129;01mnot\u001b[39;00m \u001b[43mos\u001b[49m\u001b[38;5;241;43m.\u001b[39;49m\u001b[43mpath\u001b[49m\u001b[38;5;241;43m.\u001b[39;49m\u001b[43mexists\u001b[49m\u001b[43m(\u001b[49m\u001b[43m_path\u001b[49m\u001b[43m)\u001b[49m:\n\u001b[0;32m    311\u001b[0m     \u001b[38;5;28;01mraise\u001b[39;00m \u001b[38;5;167;01mOSError\u001b[39;00m(\u001b[38;5;124m\"\u001b[39m\u001b[38;5;124mNo such file or directory: \u001b[39m\u001b[38;5;132;01m%r\u001b[39;00m\u001b[38;5;124m\"\u001b[39m \u001b[38;5;241m%\u001b[39m _path)\n\u001b[0;32m    312\u001b[0m \u001b[38;5;28mself\u001b[39m\u001b[38;5;241m.\u001b[39m_path \u001b[38;5;241m=\u001b[39m _path\n",
      "\u001b[1;31mKeyboardInterrupt\u001b[0m: "
     ]
    }
   ],
=======
   "execution_count": 249,
   "metadata": {
    "collapsed": false
   },
   "outputs": [],
>>>>>>> Stashed changes
   "source": [
    "pipeline.fit(x_train,y_train)\n",
    "pred = pipeline.predict(x_test)"
   ]
  },
  {
   "cell_type": "markdown",
   "metadata": {},
   "source": []
  },
  {
   "cell_type": "markdown",
   "metadata": {},
   "source": [
    "### Predictions and Evaluation\n",
    "\n",
    "** Now use the pipeline to predict from the X_test and create a classification report and confusion matrix. You should notice strange results.**"
   ]
  },
  {
   "cell_type": "code",
<<<<<<< Updated upstream
   "execution_count": 148,
=======
   "execution_count": 246,
>>>>>>> Stashed changes
   "metadata": {
    "collapsed": false
   },
   "outputs": [
    {
     "name": "stdout",
     "output_type": "stream",
     "text": [
      "              precision    recall  f1-score   support\n",
      "\n",
<<<<<<< Updated upstream
      "           1       0.00      0.00      0.00       218\n",
      "           5       0.82      1.00      0.90      1008\n",
      "\n",
      "    accuracy                           0.82      1226\n",
      "   macro avg       0.41      0.50      0.45      1226\n",
      "weighted avg       0.68      0.82      0.74      1226\n",
      "\n",
      "[[   0  218]\n",
      " [   0 1008]]\n"
     ]
    },
    {
     "name": "stderr",
     "output_type": "stream",
     "text": [
      "C:\\Users\\akash\\AppData\\Local\\Packages\\PythonSoftwareFoundation.Python.3.12_qbz5n2kfra8p0\\LocalCache\\local-packages\\Python312\\site-packages\\sklearn\\metrics\\_classification.py:1565: UndefinedMetricWarning: Precision is ill-defined and being set to 0.0 in labels with no predicted samples. Use `zero_division` parameter to control this behavior.\n",
      "  _warn_prf(average, modifier, f\"{metric.capitalize()} is\", len(result))\n",
      "C:\\Users\\akash\\AppData\\Local\\Packages\\PythonSoftwareFoundation.Python.3.12_qbz5n2kfra8p0\\LocalCache\\local-packages\\Python312\\site-packages\\sklearn\\metrics\\_classification.py:1565: UndefinedMetricWarning: Precision is ill-defined and being set to 0.0 in labels with no predicted samples. Use `zero_division` parameter to control this behavior.\n",
      "  _warn_prf(average, modifier, f\"{metric.capitalize()} is\", len(result))\n",
      "C:\\Users\\akash\\AppData\\Local\\Packages\\PythonSoftwareFoundation.Python.3.12_qbz5n2kfra8p0\\LocalCache\\local-packages\\Python312\\site-packages\\sklearn\\metrics\\_classification.py:1565: UndefinedMetricWarning: Precision is ill-defined and being set to 0.0 in labels with no predicted samples. Use `zero_division` parameter to control this behavior.\n",
      "  _warn_prf(average, modifier, f\"{metric.capitalize()} is\", len(result))\n"
=======
      "           1       0.98      0.39      0.55       231\n",
      "           5       0.87      1.00      0.93       995\n",
      "\n",
      "    accuracy                           0.88      1226\n",
      "   macro avg       0.93      0.69      0.74      1226\n",
      "weighted avg       0.89      0.88      0.86      1226\n",
      "\n",
      "[[ 89 142]\n",
      " [  2 993]]\n"
>>>>>>> Stashed changes
     ]
    }
   ],
   "source": [
    "print(classification_report(y_test,pred))\n",
    "print(confusion_matrix(y_test,pred))"
   ]
  },
  {
   "cell_type": "code",
   "execution_count": null,
   "metadata": {
    "collapsed": false
   },
   "outputs": [],
   "source": []
  },
  {
   "cell_type": "markdown",
   "metadata": {},
   "source": [
    "Looks like Tf-Idf actually made things worse! That is it for this project. But there is still a lot more you can play with:\n",
    "\n",
    "**Some other things to try....**\n",
    "Try going back and playing around with the pipeline steps and seeing if creating a custom analyzer like we did in the lecture helps (note: it probably won't). Or recreate the pipeline with just the CountVectorizer() and NaiveBayes. Does changing the ML model at the end to another classifier help at all?"
   ]
  },
  {
   "cell_type": "markdown",
   "metadata": {},
   "source": [
    "# Great Job!"
   ]
  },
  {
   "cell_type": "markdown",
   "metadata": {},
   "source": []
  },
  {
   "cell_type": "markdown",
   "metadata": {},
   "source": []
  }
 ],
 "metadata": {
  "kernelspec": {
   "display_name": "base",
   "language": "python",
   "name": "python3"
  },
  "language_info": {
   "codemirror_mode": {
    "name": "ipython",
    "version": 3
   },
   "file_extension": ".py",
   "mimetype": "text/x-python",
   "name": "python",
   "nbconvert_exporter": "python",
   "pygments_lexer": "ipython3",
   "version": "3.11.7"
  }
 },
 "nbformat": 4,
 "nbformat_minor": 0
}
